{
  "cells": [
    {
      "cell_type": "code",
      "source": [
        "# The workflow of this code consists of three parts:\n",
        "# 1. Data Cleaning (the code was written in Jupiter notebooks and then incorporated into Google Colab)\n",
        "# 2. Calculating Medians (more robust against outliers) and Distributions\n",
        "# 3. Machine Learning Models\n",
        "# Each step includes code for visualization."
      ],
      "metadata": {
        "id": "CSYSS6zZ0ZNx"
      },
      "execution_count": 85,
      "outputs": []
    },
    {
      "cell_type": "code",
      "source": [
        "# PART I: DATA CLEANING (converting data types, removing nulls & duplicates, create agg. values like profit, etc)\n",
        "# Import Dependencies\n",
        "import pandas as pd\n",
        "import matplotlib.pyplot as plt"
      ],
      "metadata": {
        "id": "WIV9u6830X8W"
      },
      "execution_count": 86,
      "outputs": []
    },
    {
      "cell_type": "code",
      "source": [
        "# Please UPLOAD the \"movie_metadata.csv\" file from the Resources folder to the same directory level as this code in Google Colab.\n",
        "\n",
        "# Load the uploaded Excel file.\n",
        "file_path = 'movie_metadata.csv'\n",
        "# Set variable as the origibnal data\n",
        "data_origin = pd.read_csv(file_path)\n",
        "# Create a copy of the original data to keep it intactin case of any bugs\n",
        "data = data_origin.copy()\n",
        "# Display the first few rows of the dataset to understand its structure\n",
        "data.head()"
      ],
      "metadata": {
        "colab": {
          "base_uri": "https://localhost:8080/",
          "height": 307
        },
        "id": "pQZWnUm2CRNi",
        "outputId": "b227cbc7-be10-45bf-fa8e-30d0684109c7"
      },
      "execution_count": 87,
      "outputs": [
        {
          "output_type": "execute_result",
          "data": {
            "text/plain": [
              "   color      director_name  num_critic_for_reviews  duration  \\\n",
              "0  Color      James Cameron                   723.0     178.0   \n",
              "1  Color     Gore Verbinski                   302.0     169.0   \n",
              "2  Color         Sam Mendes                   602.0     148.0   \n",
              "3  Color  Christopher Nolan                   813.0     164.0   \n",
              "4    NaN        Doug Walker                     NaN       NaN   \n",
              "\n",
              "   director_facebook_likes  actor_3_facebook_likes      actor_2_name  \\\n",
              "0                      0.0                   855.0  Joel David Moore   \n",
              "1                    563.0                  1000.0     Orlando Bloom   \n",
              "2                      0.0                   161.0      Rory Kinnear   \n",
              "3                  22000.0                 23000.0    Christian Bale   \n",
              "4                    131.0                     NaN        Rob Walker   \n",
              "\n",
              "   actor_1_facebook_likes        gross                           genres  ...  \\\n",
              "0                  1000.0  760505847.0  Action|Adventure|Fantasy|Sci-Fi  ...   \n",
              "1                 40000.0  309404152.0         Action|Adventure|Fantasy  ...   \n",
              "2                 11000.0  200074175.0        Action|Adventure|Thriller  ...   \n",
              "3                 27000.0  448130642.0                  Action|Thriller  ...   \n",
              "4                   131.0          NaN                      Documentary  ...   \n",
              "\n",
              "  num_user_for_reviews language  country  content_rating       budget  \\\n",
              "0               3054.0  English      USA           PG-13  237000000.0   \n",
              "1               1238.0  English      USA           PG-13  300000000.0   \n",
              "2                994.0  English       UK           PG-13  245000000.0   \n",
              "3               2701.0  English      USA           PG-13  250000000.0   \n",
              "4                  NaN      NaN      NaN             NaN          NaN   \n",
              "\n",
              "   title_year actor_2_facebook_likes imdb_score  aspect_ratio  \\\n",
              "0      2009.0                  936.0        7.9          1.78   \n",
              "1      2007.0                 5000.0        7.1          2.35   \n",
              "2      2015.0                  393.0        6.8          2.35   \n",
              "3      2012.0                23000.0        8.5          2.35   \n",
              "4         NaN                   12.0        7.1           NaN   \n",
              "\n",
              "  movie_facebook_likes  \n",
              "0                33000  \n",
              "1                    0  \n",
              "2                85000  \n",
              "3               164000  \n",
              "4                    0  \n",
              "\n",
              "[5 rows x 28 columns]"
            ],
            "text/html": [
              "\n",
              "  <div id=\"df-e7c73e0b-2294-4286-8077-8a81585ee7c1\" class=\"colab-df-container\">\n",
              "    <div>\n",
              "<style scoped>\n",
              "    .dataframe tbody tr th:only-of-type {\n",
              "        vertical-align: middle;\n",
              "    }\n",
              "\n",
              "    .dataframe tbody tr th {\n",
              "        vertical-align: top;\n",
              "    }\n",
              "\n",
              "    .dataframe thead th {\n",
              "        text-align: right;\n",
              "    }\n",
              "</style>\n",
              "<table border=\"1\" class=\"dataframe\">\n",
              "  <thead>\n",
              "    <tr style=\"text-align: right;\">\n",
              "      <th></th>\n",
              "      <th>color</th>\n",
              "      <th>director_name</th>\n",
              "      <th>num_critic_for_reviews</th>\n",
              "      <th>duration</th>\n",
              "      <th>director_facebook_likes</th>\n",
              "      <th>actor_3_facebook_likes</th>\n",
              "      <th>actor_2_name</th>\n",
              "      <th>actor_1_facebook_likes</th>\n",
              "      <th>gross</th>\n",
              "      <th>genres</th>\n",
              "      <th>...</th>\n",
              "      <th>num_user_for_reviews</th>\n",
              "      <th>language</th>\n",
              "      <th>country</th>\n",
              "      <th>content_rating</th>\n",
              "      <th>budget</th>\n",
              "      <th>title_year</th>\n",
              "      <th>actor_2_facebook_likes</th>\n",
              "      <th>imdb_score</th>\n",
              "      <th>aspect_ratio</th>\n",
              "      <th>movie_facebook_likes</th>\n",
              "    </tr>\n",
              "  </thead>\n",
              "  <tbody>\n",
              "    <tr>\n",
              "      <th>0</th>\n",
              "      <td>Color</td>\n",
              "      <td>James Cameron</td>\n",
              "      <td>723.0</td>\n",
              "      <td>178.0</td>\n",
              "      <td>0.0</td>\n",
              "      <td>855.0</td>\n",
              "      <td>Joel David Moore</td>\n",
              "      <td>1000.0</td>\n",
              "      <td>760505847.0</td>\n",
              "      <td>Action|Adventure|Fantasy|Sci-Fi</td>\n",
              "      <td>...</td>\n",
              "      <td>3054.0</td>\n",
              "      <td>English</td>\n",
              "      <td>USA</td>\n",
              "      <td>PG-13</td>\n",
              "      <td>237000000.0</td>\n",
              "      <td>2009.0</td>\n",
              "      <td>936.0</td>\n",
              "      <td>7.9</td>\n",
              "      <td>1.78</td>\n",
              "      <td>33000</td>\n",
              "    </tr>\n",
              "    <tr>\n",
              "      <th>1</th>\n",
              "      <td>Color</td>\n",
              "      <td>Gore Verbinski</td>\n",
              "      <td>302.0</td>\n",
              "      <td>169.0</td>\n",
              "      <td>563.0</td>\n",
              "      <td>1000.0</td>\n",
              "      <td>Orlando Bloom</td>\n",
              "      <td>40000.0</td>\n",
              "      <td>309404152.0</td>\n",
              "      <td>Action|Adventure|Fantasy</td>\n",
              "      <td>...</td>\n",
              "      <td>1238.0</td>\n",
              "      <td>English</td>\n",
              "      <td>USA</td>\n",
              "      <td>PG-13</td>\n",
              "      <td>300000000.0</td>\n",
              "      <td>2007.0</td>\n",
              "      <td>5000.0</td>\n",
              "      <td>7.1</td>\n",
              "      <td>2.35</td>\n",
              "      <td>0</td>\n",
              "    </tr>\n",
              "    <tr>\n",
              "      <th>2</th>\n",
              "      <td>Color</td>\n",
              "      <td>Sam Mendes</td>\n",
              "      <td>602.0</td>\n",
              "      <td>148.0</td>\n",
              "      <td>0.0</td>\n",
              "      <td>161.0</td>\n",
              "      <td>Rory Kinnear</td>\n",
              "      <td>11000.0</td>\n",
              "      <td>200074175.0</td>\n",
              "      <td>Action|Adventure|Thriller</td>\n",
              "      <td>...</td>\n",
              "      <td>994.0</td>\n",
              "      <td>English</td>\n",
              "      <td>UK</td>\n",
              "      <td>PG-13</td>\n",
              "      <td>245000000.0</td>\n",
              "      <td>2015.0</td>\n",
              "      <td>393.0</td>\n",
              "      <td>6.8</td>\n",
              "      <td>2.35</td>\n",
              "      <td>85000</td>\n",
              "    </tr>\n",
              "    <tr>\n",
              "      <th>3</th>\n",
              "      <td>Color</td>\n",
              "      <td>Christopher Nolan</td>\n",
              "      <td>813.0</td>\n",
              "      <td>164.0</td>\n",
              "      <td>22000.0</td>\n",
              "      <td>23000.0</td>\n",
              "      <td>Christian Bale</td>\n",
              "      <td>27000.0</td>\n",
              "      <td>448130642.0</td>\n",
              "      <td>Action|Thriller</td>\n",
              "      <td>...</td>\n",
              "      <td>2701.0</td>\n",
              "      <td>English</td>\n",
              "      <td>USA</td>\n",
              "      <td>PG-13</td>\n",
              "      <td>250000000.0</td>\n",
              "      <td>2012.0</td>\n",
              "      <td>23000.0</td>\n",
              "      <td>8.5</td>\n",
              "      <td>2.35</td>\n",
              "      <td>164000</td>\n",
              "    </tr>\n",
              "    <tr>\n",
              "      <th>4</th>\n",
              "      <td>NaN</td>\n",
              "      <td>Doug Walker</td>\n",
              "      <td>NaN</td>\n",
              "      <td>NaN</td>\n",
              "      <td>131.0</td>\n",
              "      <td>NaN</td>\n",
              "      <td>Rob Walker</td>\n",
              "      <td>131.0</td>\n",
              "      <td>NaN</td>\n",
              "      <td>Documentary</td>\n",
              "      <td>...</td>\n",
              "      <td>NaN</td>\n",
              "      <td>NaN</td>\n",
              "      <td>NaN</td>\n",
              "      <td>NaN</td>\n",
              "      <td>NaN</td>\n",
              "      <td>NaN</td>\n",
              "      <td>12.0</td>\n",
              "      <td>7.1</td>\n",
              "      <td>NaN</td>\n",
              "      <td>0</td>\n",
              "    </tr>\n",
              "  </tbody>\n",
              "</table>\n",
              "<p>5 rows × 28 columns</p>\n",
              "</div>\n",
              "    <div class=\"colab-df-buttons\">\n",
              "\n",
              "  <div class=\"colab-df-container\">\n",
              "    <button class=\"colab-df-convert\" onclick=\"convertToInteractive('df-e7c73e0b-2294-4286-8077-8a81585ee7c1')\"\n",
              "            title=\"Convert this dataframe to an interactive table.\"\n",
              "            style=\"display:none;\">\n",
              "\n",
              "  <svg xmlns=\"http://www.w3.org/2000/svg\" height=\"24px\" viewBox=\"0 -960 960 960\">\n",
              "    <path d=\"M120-120v-720h720v720H120Zm60-500h600v-160H180v160Zm220 220h160v-160H400v160Zm0 220h160v-160H400v160ZM180-400h160v-160H180v160Zm440 0h160v-160H620v160ZM180-180h160v-160H180v160Zm440 0h160v-160H620v160Z\"/>\n",
              "  </svg>\n",
              "    </button>\n",
              "\n",
              "  <style>\n",
              "    .colab-df-container {\n",
              "      display:flex;\n",
              "      gap: 12px;\n",
              "    }\n",
              "\n",
              "    .colab-df-convert {\n",
              "      background-color: #E8F0FE;\n",
              "      border: none;\n",
              "      border-radius: 50%;\n",
              "      cursor: pointer;\n",
              "      display: none;\n",
              "      fill: #1967D2;\n",
              "      height: 32px;\n",
              "      padding: 0 0 0 0;\n",
              "      width: 32px;\n",
              "    }\n",
              "\n",
              "    .colab-df-convert:hover {\n",
              "      background-color: #E2EBFA;\n",
              "      box-shadow: 0px 1px 2px rgba(60, 64, 67, 0.3), 0px 1px 3px 1px rgba(60, 64, 67, 0.15);\n",
              "      fill: #174EA6;\n",
              "    }\n",
              "\n",
              "    .colab-df-buttons div {\n",
              "      margin-bottom: 4px;\n",
              "    }\n",
              "\n",
              "    [theme=dark] .colab-df-convert {\n",
              "      background-color: #3B4455;\n",
              "      fill: #D2E3FC;\n",
              "    }\n",
              "\n",
              "    [theme=dark] .colab-df-convert:hover {\n",
              "      background-color: #434B5C;\n",
              "      box-shadow: 0px 1px 3px 1px rgba(0, 0, 0, 0.15);\n",
              "      filter: drop-shadow(0px 1px 2px rgba(0, 0, 0, 0.3));\n",
              "      fill: #FFFFFF;\n",
              "    }\n",
              "  </style>\n",
              "\n",
              "    <script>\n",
              "      const buttonEl =\n",
              "        document.querySelector('#df-e7c73e0b-2294-4286-8077-8a81585ee7c1 button.colab-df-convert');\n",
              "      buttonEl.style.display =\n",
              "        google.colab.kernel.accessAllowed ? 'block' : 'none';\n",
              "\n",
              "      async function convertToInteractive(key) {\n",
              "        const element = document.querySelector('#df-e7c73e0b-2294-4286-8077-8a81585ee7c1');\n",
              "        const dataTable =\n",
              "          await google.colab.kernel.invokeFunction('convertToInteractive',\n",
              "                                                    [key], {});\n",
              "        if (!dataTable) return;\n",
              "\n",
              "        const docLinkHtml = 'Like what you see? Visit the ' +\n",
              "          '<a target=\"_blank\" href=https://colab.research.google.com/notebooks/data_table.ipynb>data table notebook</a>'\n",
              "          + ' to learn more about interactive tables.';\n",
              "        element.innerHTML = '';\n",
              "        dataTable['output_type'] = 'display_data';\n",
              "        await google.colab.output.renderOutput(dataTable, element);\n",
              "        const docLink = document.createElement('div');\n",
              "        docLink.innerHTML = docLinkHtml;\n",
              "        element.appendChild(docLink);\n",
              "      }\n",
              "    </script>\n",
              "  </div>\n",
              "\n",
              "\n",
              "<div id=\"df-e7d7e5a2-7e58-40f9-bce8-d8293bd22684\">\n",
              "  <button class=\"colab-df-quickchart\" onclick=\"quickchart('df-e7d7e5a2-7e58-40f9-bce8-d8293bd22684')\"\n",
              "            title=\"Suggest charts\"\n",
              "            style=\"display:none;\">\n",
              "\n",
              "<svg xmlns=\"http://www.w3.org/2000/svg\" height=\"24px\"viewBox=\"0 0 24 24\"\n",
              "     width=\"24px\">\n",
              "    <g>\n",
              "        <path d=\"M19 3H5c-1.1 0-2 .9-2 2v14c0 1.1.9 2 2 2h14c1.1 0 2-.9 2-2V5c0-1.1-.9-2-2-2zM9 17H7v-7h2v7zm4 0h-2V7h2v10zm4 0h-2v-4h2v4z\"/>\n",
              "    </g>\n",
              "</svg>\n",
              "  </button>\n",
              "\n",
              "<style>\n",
              "  .colab-df-quickchart {\n",
              "      --bg-color: #E8F0FE;\n",
              "      --fill-color: #1967D2;\n",
              "      --hover-bg-color: #E2EBFA;\n",
              "      --hover-fill-color: #174EA6;\n",
              "      --disabled-fill-color: #AAA;\n",
              "      --disabled-bg-color: #DDD;\n",
              "  }\n",
              "\n",
              "  [theme=dark] .colab-df-quickchart {\n",
              "      --bg-color: #3B4455;\n",
              "      --fill-color: #D2E3FC;\n",
              "      --hover-bg-color: #434B5C;\n",
              "      --hover-fill-color: #FFFFFF;\n",
              "      --disabled-bg-color: #3B4455;\n",
              "      --disabled-fill-color: #666;\n",
              "  }\n",
              "\n",
              "  .colab-df-quickchart {\n",
              "    background-color: var(--bg-color);\n",
              "    border: none;\n",
              "    border-radius: 50%;\n",
              "    cursor: pointer;\n",
              "    display: none;\n",
              "    fill: var(--fill-color);\n",
              "    height: 32px;\n",
              "    padding: 0;\n",
              "    width: 32px;\n",
              "  }\n",
              "\n",
              "  .colab-df-quickchart:hover {\n",
              "    background-color: var(--hover-bg-color);\n",
              "    box-shadow: 0 1px 2px rgba(60, 64, 67, 0.3), 0 1px 3px 1px rgba(60, 64, 67, 0.15);\n",
              "    fill: var(--button-hover-fill-color);\n",
              "  }\n",
              "\n",
              "  .colab-df-quickchart-complete:disabled,\n",
              "  .colab-df-quickchart-complete:disabled:hover {\n",
              "    background-color: var(--disabled-bg-color);\n",
              "    fill: var(--disabled-fill-color);\n",
              "    box-shadow: none;\n",
              "  }\n",
              "\n",
              "  .colab-df-spinner {\n",
              "    border: 2px solid var(--fill-color);\n",
              "    border-color: transparent;\n",
              "    border-bottom-color: var(--fill-color);\n",
              "    animation:\n",
              "      spin 1s steps(1) infinite;\n",
              "  }\n",
              "\n",
              "  @keyframes spin {\n",
              "    0% {\n",
              "      border-color: transparent;\n",
              "      border-bottom-color: var(--fill-color);\n",
              "      border-left-color: var(--fill-color);\n",
              "    }\n",
              "    20% {\n",
              "      border-color: transparent;\n",
              "      border-left-color: var(--fill-color);\n",
              "      border-top-color: var(--fill-color);\n",
              "    }\n",
              "    30% {\n",
              "      border-color: transparent;\n",
              "      border-left-color: var(--fill-color);\n",
              "      border-top-color: var(--fill-color);\n",
              "      border-right-color: var(--fill-color);\n",
              "    }\n",
              "    40% {\n",
              "      border-color: transparent;\n",
              "      border-right-color: var(--fill-color);\n",
              "      border-top-color: var(--fill-color);\n",
              "    }\n",
              "    60% {\n",
              "      border-color: transparent;\n",
              "      border-right-color: var(--fill-color);\n",
              "    }\n",
              "    80% {\n",
              "      border-color: transparent;\n",
              "      border-right-color: var(--fill-color);\n",
              "      border-bottom-color: var(--fill-color);\n",
              "    }\n",
              "    90% {\n",
              "      border-color: transparent;\n",
              "      border-bottom-color: var(--fill-color);\n",
              "    }\n",
              "  }\n",
              "</style>\n",
              "\n",
              "  <script>\n",
              "    async function quickchart(key) {\n",
              "      const quickchartButtonEl =\n",
              "        document.querySelector('#' + key + ' button');\n",
              "      quickchartButtonEl.disabled = true;  // To prevent multiple clicks.\n",
              "      quickchartButtonEl.classList.add('colab-df-spinner');\n",
              "      try {\n",
              "        const charts = await google.colab.kernel.invokeFunction(\n",
              "            'suggestCharts', [key], {});\n",
              "      } catch (error) {\n",
              "        console.error('Error during call to suggestCharts:', error);\n",
              "      }\n",
              "      quickchartButtonEl.classList.remove('colab-df-spinner');\n",
              "      quickchartButtonEl.classList.add('colab-df-quickchart-complete');\n",
              "    }\n",
              "    (() => {\n",
              "      let quickchartButtonEl =\n",
              "        document.querySelector('#df-e7d7e5a2-7e58-40f9-bce8-d8293bd22684 button');\n",
              "      quickchartButtonEl.style.display =\n",
              "        google.colab.kernel.accessAllowed ? 'block' : 'none';\n",
              "    })();\n",
              "  </script>\n",
              "</div>\n",
              "\n",
              "    </div>\n",
              "  </div>\n"
            ],
            "application/vnd.google.colaboratory.intrinsic+json": {
              "type": "dataframe",
              "variable_name": "data"
            }
          },
          "metadata": {},
          "execution_count": 87
        }
      ]
    },
    {
      "cell_type": "code",
      "source": [
        "# Clean the 'movie_title' column by removing 'Â' and any additional whitespace at the end\n",
        "data['movie_title'] = data['movie_title'].str.replace('Â', '', regex=True).str.strip()\n",
        "# Change the order of the columns and drop"
      ],
      "metadata": {
        "id": "hqzm7-v-Ml3I"
      },
      "execution_count": 88,
      "outputs": []
    },
    {
      "cell_type": "code",
      "source": [
        "# Change column order starting with defining the new column order\n",
        "# Drop columns 'movie_imdb_link' and 'aspect_ratio'.\n",
        "new_column_order = [\n",
        "    'movie_title', 'gross', 'budget',  # Main movie details\n",
        "    'actor_1_name', 'actor_1_facebook_likes',  # Actor 1 details\n",
        "    'actor_2_name', 'actor_2_facebook_likes',  # Actor 2 details\n",
        "    'actor_3_name', 'actor_3_facebook_likes',  # Actor 3 details\n",
        "    'director_name', 'director_facebook_likes',  # Director details\n",
        "    'duration', 'title_year', 'num_critic_for_reviews', 'num_user_for_reviews',  # Movie-specific details\n",
        "    'num_voted_users', 'cast_total_facebook_likes', 'facenumber_in_poster',  # User and cast data\n",
        "    'movie_facebook_likes',  # Add this column here\n",
        "    'plot_keywords', 'genres', 'language', 'country', 'content_rating', 'imdb_score', 'color',  # Other features\n",
        "]\n",
        "\n",
        "# Reorder the DataFrame based on the new column order\n",
        "data = data[new_column_order]\n",
        "\n",
        "# Check the first three of our restructured data\n",
        "print(data.head(3))"
      ],
      "metadata": {
        "colab": {
          "base_uri": "https://localhost:8080/"
        },
        "id": "M64-HolTOyRm",
        "outputId": "44c55d9f-4d80-4706-f321-28e839c708a4"
      },
      "execution_count": 89,
      "outputs": [
        {
          "output_type": "stream",
          "name": "stdout",
          "text": [
            "                                movie_title        gross       budget  \\\n",
            "0                                    Avatar  760505847.0  237000000.0   \n",
            "1  Pirates of the Caribbean: At World's End  309404152.0  300000000.0   \n",
            "2                                   Spectre  200074175.0  245000000.0   \n",
            "\n",
            "      actor_1_name  actor_1_facebook_likes      actor_2_name  \\\n",
            "0      CCH Pounder                  1000.0  Joel David Moore   \n",
            "1      Johnny Depp                 40000.0     Orlando Bloom   \n",
            "2  Christoph Waltz                 11000.0      Rory Kinnear   \n",
            "\n",
            "   actor_2_facebook_likes      actor_3_name  actor_3_facebook_likes  \\\n",
            "0                   936.0         Wes Studi                   855.0   \n",
            "1                  5000.0    Jack Davenport                  1000.0   \n",
            "2                   393.0  Stephanie Sigman                   161.0   \n",
            "\n",
            "    director_name  ...  cast_total_facebook_likes  facenumber_in_poster  \\\n",
            "0   James Cameron  ...                       4834                   0.0   \n",
            "1  Gore Verbinski  ...                      48350                   0.0   \n",
            "2      Sam Mendes  ...                      11700                   1.0   \n",
            "\n",
            "   movie_facebook_likes                                      plot_keywords  \\\n",
            "0                 33000             avatar|future|marine|native|paraplegic   \n",
            "1                     0  goddess|marriage ceremony|marriage proposal|pi...   \n",
            "2                 85000                bomb|espionage|sequel|spy|terrorist   \n",
            "\n",
            "                            genres  language  country  content_rating  \\\n",
            "0  Action|Adventure|Fantasy|Sci-Fi   English      USA           PG-13   \n",
            "1         Action|Adventure|Fantasy   English      USA           PG-13   \n",
            "2        Action|Adventure|Thriller   English       UK           PG-13   \n",
            "\n",
            "   imdb_score  color  \n",
            "0         7.9  Color  \n",
            "1         7.1  Color  \n",
            "2         6.8  Color  \n",
            "\n",
            "[3 rows x 26 columns]\n"
          ]
        }
      ]
    },
    {
      "cell_type": "code",
      "source": [
        "# Make a copy of the data for debugging purposes\n",
        "m_data = data.copy()\n",
        "# Filter the data to include only rows where the 'country' column is equal to 'USA'\n",
        "filtered_data = m_data[data['country'] == 'USA']\n",
        "# We would like to limit the scope for the US only to remove biasis of foreign movies making less in the US may not be their primary target"
      ],
      "metadata": {
        "id": "xSmovTEZipKp"
      },
      "execution_count": 90,
      "outputs": []
    },
    {
      "cell_type": "code",
      "source": [
        "# Fill missing values for string columns like 'director_name' with 'Unknown'\n",
        "filtered_data.loc[:, ['director_name', 'actor_1_name', 'actor_2_name', 'actor_3_name']] = filtered_data.loc[:, ['director_name', 'actor_1_name', 'actor_2_name', 'actor_3_name']].fillna('Unknown')\n",
        "\n",
        "# Replace 'Unrated' with 'Not rated' in the 'content_rating' column\n",
        "filtered_data.loc[:, 'content_rating'] = filtered_data['content_rating'].replace('Unrated', 'Not rated')\n",
        "\n",
        "# Drop rows with any other missing values to create a more accurate machine learning model\n",
        "transformed_data = filtered_data.dropna()"
      ],
      "metadata": {
        "id": "18G5trUYC8o-"
      },
      "execution_count": 91,
      "outputs": []
    },
    {
      "cell_type": "code",
      "source": [
        "# Get the number of rows in the DataFrame to verify data size and successful data type conversion for 'gross' and 'budget' columns\n",
        "# Check if any other values need conversion\n",
        "num_rows = transformed_data.shape[0]\n",
        "\n",
        "# Get the data types of each column\n",
        "data_types = transformed_data.dtypes\n",
        "\n",
        "# Display the results\n",
        "print(f\"Number of the remaining rows: {num_rows}\")\n",
        "print(\"\\nData types of each column:\")\n",
        "print(data_types)"
      ],
      "metadata": {
        "colab": {
          "base_uri": "https://localhost:8080/"
        },
        "id": "6KxakYn6DVT6",
        "outputId": "319dce9e-fdc5-4617-d2ae-dd6e01c7deee"
      },
      "execution_count": 92,
      "outputs": [
        {
          "output_type": "stream",
          "name": "stdout",
          "text": [
            "Number of the remaining rows: 3026\n",
            "\n",
            "Data types of each column:\n",
            "movie_title                   object\n",
            "gross                        float64\n",
            "budget                       float64\n",
            "actor_1_name                  object\n",
            "actor_1_facebook_likes       float64\n",
            "actor_2_name                  object\n",
            "actor_2_facebook_likes       float64\n",
            "actor_3_name                  object\n",
            "actor_3_facebook_likes       float64\n",
            "director_name                 object\n",
            "director_facebook_likes      float64\n",
            "duration                     float64\n",
            "title_year                   float64\n",
            "num_critic_for_reviews       float64\n",
            "num_user_for_reviews         float64\n",
            "num_voted_users                int64\n",
            "cast_total_facebook_likes      int64\n",
            "facenumber_in_poster         float64\n",
            "movie_facebook_likes           int64\n",
            "plot_keywords                 object\n",
            "genres                        object\n",
            "language                      object\n",
            "country                       object\n",
            "content_rating                object\n",
            "imdb_score                   float64\n",
            "color                         object\n",
            "dtype: object\n"
          ]
        }
      ]
    },
    {
      "cell_type": "code",
      "source": [
        "# Convert 'budget' and 'gross' columns to integers. Rpounded to the whole numbers\n",
        "data['budget'] = pd.to_numeric(data['budget'], errors='coerce').fillna(0).round(0).astype(int)\n",
        "data['gross'] = pd.to_numeric(data['gross'], errors='coerce').fillna(0).round(0).astype(int)\n",
        "\n",
        "# Use .loc to modify the data types in other columns without triggering Warning messages\n",
        "transformed_data.loc[:, 'actor_1_facebook_likes'] = pd.to_numeric(transformed_data['actor_1_facebook_likes'], errors='coerce').fillna(0).round(0).astype(int)\n",
        "transformed_data.loc[:, 'actor_2_facebook_likes'] = pd.to_numeric(transformed_data['actor_2_facebook_likes'], errors='coerce').fillna(0).round(0).astype(int)\n",
        "transformed_data.loc[:, 'actor_3_facebook_likes'] = pd.to_numeric(transformed_data['actor_3_facebook_likes'], errors='coerce').fillna(0).round(0).astype(int)\n",
        "transformed_data.loc[:, 'num_critic_for_reviews'] = pd.to_numeric(transformed_data['num_critic_for_reviews'], errors='coerce').fillna(0).round(0).astype(int)\n",
        "transformed_data.loc[:, 'num_user_for_reviews'] = pd.to_numeric(transformed_data['num_user_for_reviews'], errors='coerce').fillna(0).round(0).astype(int)\n",
        "transformed_data.loc[:, 'facenumber_in_poster'] = pd.to_numeric(transformed_data['facenumber_in_poster'], errors='coerce').fillna(0).round(0).astype(int)\n",
        "\n",
        "# Convert the 'title_year' column to integer format, ensuring proper handling of missing values\n",
        "transformed_data['title_year'] = pd.to_numeric(transformed_data['title_year'], errors='coerce').astype('Int64')\n",
        "\n",
        "# Display the first 5 rows of the data\n",
        "transformed_data.head()\n"
      ],
      "metadata": {
        "colab": {
          "base_uri": "https://localhost:8080/",
          "height": 486
        },
        "id": "2AgS3pMDRoFc",
        "outputId": "94703868-e6e0-46be-e47b-cc966c574fb5"
      },
      "execution_count": 93,
      "outputs": [
        {
          "output_type": "stream",
          "name": "stderr",
          "text": [
            "<ipython-input-93-9feafec98907>:14: SettingWithCopyWarning: \n",
            "A value is trying to be set on a copy of a slice from a DataFrame.\n",
            "Try using .loc[row_indexer,col_indexer] = value instead\n",
            "\n",
            "See the caveats in the documentation: https://pandas.pydata.org/pandas-docs/stable/user_guide/indexing.html#returning-a-view-versus-a-copy\n",
            "  transformed_data['title_year'] = pd.to_numeric(transformed_data['title_year'], errors='coerce').astype('Int64')\n"
          ]
        },
        {
          "output_type": "execute_result",
          "data": {
            "text/plain": [
              "                                movie_title        gross       budget  \\\n",
              "0                                    Avatar  760505847.0  237000000.0   \n",
              "1  Pirates of the Caribbean: At World's End  309404152.0  300000000.0   \n",
              "3                     The Dark Knight Rises  448130642.0  250000000.0   \n",
              "5                               John Carter   73058679.0  263700000.0   \n",
              "6                              Spider-Man 3  336530303.0  258000000.0   \n",
              "\n",
              "   actor_1_name  actor_1_facebook_likes      actor_2_name  \\\n",
              "0   CCH Pounder                  1000.0  Joel David Moore   \n",
              "1   Johnny Depp                 40000.0     Orlando Bloom   \n",
              "3     Tom Hardy                 27000.0    Christian Bale   \n",
              "5  Daryl Sabara                   640.0   Samantha Morton   \n",
              "6  J.K. Simmons                 24000.0      James Franco   \n",
              "\n",
              "   actor_2_facebook_likes          actor_3_name  actor_3_facebook_likes  \\\n",
              "0                   936.0             Wes Studi                   855.0   \n",
              "1                  5000.0        Jack Davenport                  1000.0   \n",
              "3                 23000.0  Joseph Gordon-Levitt                 23000.0   \n",
              "5                   632.0          Polly Walker                   530.0   \n",
              "6                 11000.0         Kirsten Dunst                  4000.0   \n",
              "\n",
              "       director_name  ...  cast_total_facebook_likes  facenumber_in_poster  \\\n",
              "0      James Cameron  ...                       4834                   0.0   \n",
              "1     Gore Verbinski  ...                      48350                   0.0   \n",
              "3  Christopher Nolan  ...                     106759                   0.0   \n",
              "5     Andrew Stanton  ...                       1873                   1.0   \n",
              "6          Sam Raimi  ...                      46055                   0.0   \n",
              "\n",
              "   movie_facebook_likes                                      plot_keywords  \\\n",
              "0                 33000             avatar|future|marine|native|paraplegic   \n",
              "1                     0  goddess|marriage ceremony|marriage proposal|pi...   \n",
              "3                164000  deception|imprisonment|lawlessness|police offi...   \n",
              "5                 24000  alien|american civil war|male nipple|mars|prin...   \n",
              "6                     0          sandman|spider man|symbiote|venom|villain   \n",
              "\n",
              "                            genres  language  country  content_rating  \\\n",
              "0  Action|Adventure|Fantasy|Sci-Fi   English      USA           PG-13   \n",
              "1         Action|Adventure|Fantasy   English      USA           PG-13   \n",
              "3                  Action|Thriller   English      USA           PG-13   \n",
              "5          Action|Adventure|Sci-Fi   English      USA           PG-13   \n",
              "6         Action|Adventure|Romance   English      USA           PG-13   \n",
              "\n",
              "   imdb_score  color  \n",
              "0         7.9  Color  \n",
              "1         7.1  Color  \n",
              "3         8.5  Color  \n",
              "5         6.6  Color  \n",
              "6         6.2  Color  \n",
              "\n",
              "[5 rows x 26 columns]"
            ],
            "text/html": [
              "\n",
              "  <div id=\"df-eda41303-21fc-449c-a3ba-f2f5ceab8895\" class=\"colab-df-container\">\n",
              "    <div>\n",
              "<style scoped>\n",
              "    .dataframe tbody tr th:only-of-type {\n",
              "        vertical-align: middle;\n",
              "    }\n",
              "\n",
              "    .dataframe tbody tr th {\n",
              "        vertical-align: top;\n",
              "    }\n",
              "\n",
              "    .dataframe thead th {\n",
              "        text-align: right;\n",
              "    }\n",
              "</style>\n",
              "<table border=\"1\" class=\"dataframe\">\n",
              "  <thead>\n",
              "    <tr style=\"text-align: right;\">\n",
              "      <th></th>\n",
              "      <th>movie_title</th>\n",
              "      <th>gross</th>\n",
              "      <th>budget</th>\n",
              "      <th>actor_1_name</th>\n",
              "      <th>actor_1_facebook_likes</th>\n",
              "      <th>actor_2_name</th>\n",
              "      <th>actor_2_facebook_likes</th>\n",
              "      <th>actor_3_name</th>\n",
              "      <th>actor_3_facebook_likes</th>\n",
              "      <th>director_name</th>\n",
              "      <th>...</th>\n",
              "      <th>cast_total_facebook_likes</th>\n",
              "      <th>facenumber_in_poster</th>\n",
              "      <th>movie_facebook_likes</th>\n",
              "      <th>plot_keywords</th>\n",
              "      <th>genres</th>\n",
              "      <th>language</th>\n",
              "      <th>country</th>\n",
              "      <th>content_rating</th>\n",
              "      <th>imdb_score</th>\n",
              "      <th>color</th>\n",
              "    </tr>\n",
              "  </thead>\n",
              "  <tbody>\n",
              "    <tr>\n",
              "      <th>0</th>\n",
              "      <td>Avatar</td>\n",
              "      <td>760505847.0</td>\n",
              "      <td>237000000.0</td>\n",
              "      <td>CCH Pounder</td>\n",
              "      <td>1000.0</td>\n",
              "      <td>Joel David Moore</td>\n",
              "      <td>936.0</td>\n",
              "      <td>Wes Studi</td>\n",
              "      <td>855.0</td>\n",
              "      <td>James Cameron</td>\n",
              "      <td>...</td>\n",
              "      <td>4834</td>\n",
              "      <td>0.0</td>\n",
              "      <td>33000</td>\n",
              "      <td>avatar|future|marine|native|paraplegic</td>\n",
              "      <td>Action|Adventure|Fantasy|Sci-Fi</td>\n",
              "      <td>English</td>\n",
              "      <td>USA</td>\n",
              "      <td>PG-13</td>\n",
              "      <td>7.9</td>\n",
              "      <td>Color</td>\n",
              "    </tr>\n",
              "    <tr>\n",
              "      <th>1</th>\n",
              "      <td>Pirates of the Caribbean: At World's End</td>\n",
              "      <td>309404152.0</td>\n",
              "      <td>300000000.0</td>\n",
              "      <td>Johnny Depp</td>\n",
              "      <td>40000.0</td>\n",
              "      <td>Orlando Bloom</td>\n",
              "      <td>5000.0</td>\n",
              "      <td>Jack Davenport</td>\n",
              "      <td>1000.0</td>\n",
              "      <td>Gore Verbinski</td>\n",
              "      <td>...</td>\n",
              "      <td>48350</td>\n",
              "      <td>0.0</td>\n",
              "      <td>0</td>\n",
              "      <td>goddess|marriage ceremony|marriage proposal|pi...</td>\n",
              "      <td>Action|Adventure|Fantasy</td>\n",
              "      <td>English</td>\n",
              "      <td>USA</td>\n",
              "      <td>PG-13</td>\n",
              "      <td>7.1</td>\n",
              "      <td>Color</td>\n",
              "    </tr>\n",
              "    <tr>\n",
              "      <th>3</th>\n",
              "      <td>The Dark Knight Rises</td>\n",
              "      <td>448130642.0</td>\n",
              "      <td>250000000.0</td>\n",
              "      <td>Tom Hardy</td>\n",
              "      <td>27000.0</td>\n",
              "      <td>Christian Bale</td>\n",
              "      <td>23000.0</td>\n",
              "      <td>Joseph Gordon-Levitt</td>\n",
              "      <td>23000.0</td>\n",
              "      <td>Christopher Nolan</td>\n",
              "      <td>...</td>\n",
              "      <td>106759</td>\n",
              "      <td>0.0</td>\n",
              "      <td>164000</td>\n",
              "      <td>deception|imprisonment|lawlessness|police offi...</td>\n",
              "      <td>Action|Thriller</td>\n",
              "      <td>English</td>\n",
              "      <td>USA</td>\n",
              "      <td>PG-13</td>\n",
              "      <td>8.5</td>\n",
              "      <td>Color</td>\n",
              "    </tr>\n",
              "    <tr>\n",
              "      <th>5</th>\n",
              "      <td>John Carter</td>\n",
              "      <td>73058679.0</td>\n",
              "      <td>263700000.0</td>\n",
              "      <td>Daryl Sabara</td>\n",
              "      <td>640.0</td>\n",
              "      <td>Samantha Morton</td>\n",
              "      <td>632.0</td>\n",
              "      <td>Polly Walker</td>\n",
              "      <td>530.0</td>\n",
              "      <td>Andrew Stanton</td>\n",
              "      <td>...</td>\n",
              "      <td>1873</td>\n",
              "      <td>1.0</td>\n",
              "      <td>24000</td>\n",
              "      <td>alien|american civil war|male nipple|mars|prin...</td>\n",
              "      <td>Action|Adventure|Sci-Fi</td>\n",
              "      <td>English</td>\n",
              "      <td>USA</td>\n",
              "      <td>PG-13</td>\n",
              "      <td>6.6</td>\n",
              "      <td>Color</td>\n",
              "    </tr>\n",
              "    <tr>\n",
              "      <th>6</th>\n",
              "      <td>Spider-Man 3</td>\n",
              "      <td>336530303.0</td>\n",
              "      <td>258000000.0</td>\n",
              "      <td>J.K. Simmons</td>\n",
              "      <td>24000.0</td>\n",
              "      <td>James Franco</td>\n",
              "      <td>11000.0</td>\n",
              "      <td>Kirsten Dunst</td>\n",
              "      <td>4000.0</td>\n",
              "      <td>Sam Raimi</td>\n",
              "      <td>...</td>\n",
              "      <td>46055</td>\n",
              "      <td>0.0</td>\n",
              "      <td>0</td>\n",
              "      <td>sandman|spider man|symbiote|venom|villain</td>\n",
              "      <td>Action|Adventure|Romance</td>\n",
              "      <td>English</td>\n",
              "      <td>USA</td>\n",
              "      <td>PG-13</td>\n",
              "      <td>6.2</td>\n",
              "      <td>Color</td>\n",
              "    </tr>\n",
              "  </tbody>\n",
              "</table>\n",
              "<p>5 rows × 26 columns</p>\n",
              "</div>\n",
              "    <div class=\"colab-df-buttons\">\n",
              "\n",
              "  <div class=\"colab-df-container\">\n",
              "    <button class=\"colab-df-convert\" onclick=\"convertToInteractive('df-eda41303-21fc-449c-a3ba-f2f5ceab8895')\"\n",
              "            title=\"Convert this dataframe to an interactive table.\"\n",
              "            style=\"display:none;\">\n",
              "\n",
              "  <svg xmlns=\"http://www.w3.org/2000/svg\" height=\"24px\" viewBox=\"0 -960 960 960\">\n",
              "    <path d=\"M120-120v-720h720v720H120Zm60-500h600v-160H180v160Zm220 220h160v-160H400v160Zm0 220h160v-160H400v160ZM180-400h160v-160H180v160Zm440 0h160v-160H620v160ZM180-180h160v-160H180v160Zm440 0h160v-160H620v160Z\"/>\n",
              "  </svg>\n",
              "    </button>\n",
              "\n",
              "  <style>\n",
              "    .colab-df-container {\n",
              "      display:flex;\n",
              "      gap: 12px;\n",
              "    }\n",
              "\n",
              "    .colab-df-convert {\n",
              "      background-color: #E8F0FE;\n",
              "      border: none;\n",
              "      border-radius: 50%;\n",
              "      cursor: pointer;\n",
              "      display: none;\n",
              "      fill: #1967D2;\n",
              "      height: 32px;\n",
              "      padding: 0 0 0 0;\n",
              "      width: 32px;\n",
              "    }\n",
              "\n",
              "    .colab-df-convert:hover {\n",
              "      background-color: #E2EBFA;\n",
              "      box-shadow: 0px 1px 2px rgba(60, 64, 67, 0.3), 0px 1px 3px 1px rgba(60, 64, 67, 0.15);\n",
              "      fill: #174EA6;\n",
              "    }\n",
              "\n",
              "    .colab-df-buttons div {\n",
              "      margin-bottom: 4px;\n",
              "    }\n",
              "\n",
              "    [theme=dark] .colab-df-convert {\n",
              "      background-color: #3B4455;\n",
              "      fill: #D2E3FC;\n",
              "    }\n",
              "\n",
              "    [theme=dark] .colab-df-convert:hover {\n",
              "      background-color: #434B5C;\n",
              "      box-shadow: 0px 1px 3px 1px rgba(0, 0, 0, 0.15);\n",
              "      filter: drop-shadow(0px 1px 2px rgba(0, 0, 0, 0.3));\n",
              "      fill: #FFFFFF;\n",
              "    }\n",
              "  </style>\n",
              "\n",
              "    <script>\n",
              "      const buttonEl =\n",
              "        document.querySelector('#df-eda41303-21fc-449c-a3ba-f2f5ceab8895 button.colab-df-convert');\n",
              "      buttonEl.style.display =\n",
              "        google.colab.kernel.accessAllowed ? 'block' : 'none';\n",
              "\n",
              "      async function convertToInteractive(key) {\n",
              "        const element = document.querySelector('#df-eda41303-21fc-449c-a3ba-f2f5ceab8895');\n",
              "        const dataTable =\n",
              "          await google.colab.kernel.invokeFunction('convertToInteractive',\n",
              "                                                    [key], {});\n",
              "        if (!dataTable) return;\n",
              "\n",
              "        const docLinkHtml = 'Like what you see? Visit the ' +\n",
              "          '<a target=\"_blank\" href=https://colab.research.google.com/notebooks/data_table.ipynb>data table notebook</a>'\n",
              "          + ' to learn more about interactive tables.';\n",
              "        element.innerHTML = '';\n",
              "        dataTable['output_type'] = 'display_data';\n",
              "        await google.colab.output.renderOutput(dataTable, element);\n",
              "        const docLink = document.createElement('div');\n",
              "        docLink.innerHTML = docLinkHtml;\n",
              "        element.appendChild(docLink);\n",
              "      }\n",
              "    </script>\n",
              "  </div>\n",
              "\n",
              "\n",
              "<div id=\"df-213e9c83-c298-4754-9cf1-933b04b6c1a4\">\n",
              "  <button class=\"colab-df-quickchart\" onclick=\"quickchart('df-213e9c83-c298-4754-9cf1-933b04b6c1a4')\"\n",
              "            title=\"Suggest charts\"\n",
              "            style=\"display:none;\">\n",
              "\n",
              "<svg xmlns=\"http://www.w3.org/2000/svg\" height=\"24px\"viewBox=\"0 0 24 24\"\n",
              "     width=\"24px\">\n",
              "    <g>\n",
              "        <path d=\"M19 3H5c-1.1 0-2 .9-2 2v14c0 1.1.9 2 2 2h14c1.1 0 2-.9 2-2V5c0-1.1-.9-2-2-2zM9 17H7v-7h2v7zm4 0h-2V7h2v10zm4 0h-2v-4h2v4z\"/>\n",
              "    </g>\n",
              "</svg>\n",
              "  </button>\n",
              "\n",
              "<style>\n",
              "  .colab-df-quickchart {\n",
              "      --bg-color: #E8F0FE;\n",
              "      --fill-color: #1967D2;\n",
              "      --hover-bg-color: #E2EBFA;\n",
              "      --hover-fill-color: #174EA6;\n",
              "      --disabled-fill-color: #AAA;\n",
              "      --disabled-bg-color: #DDD;\n",
              "  }\n",
              "\n",
              "  [theme=dark] .colab-df-quickchart {\n",
              "      --bg-color: #3B4455;\n",
              "      --fill-color: #D2E3FC;\n",
              "      --hover-bg-color: #434B5C;\n",
              "      --hover-fill-color: #FFFFFF;\n",
              "      --disabled-bg-color: #3B4455;\n",
              "      --disabled-fill-color: #666;\n",
              "  }\n",
              "\n",
              "  .colab-df-quickchart {\n",
              "    background-color: var(--bg-color);\n",
              "    border: none;\n",
              "    border-radius: 50%;\n",
              "    cursor: pointer;\n",
              "    display: none;\n",
              "    fill: var(--fill-color);\n",
              "    height: 32px;\n",
              "    padding: 0;\n",
              "    width: 32px;\n",
              "  }\n",
              "\n",
              "  .colab-df-quickchart:hover {\n",
              "    background-color: var(--hover-bg-color);\n",
              "    box-shadow: 0 1px 2px rgba(60, 64, 67, 0.3), 0 1px 3px 1px rgba(60, 64, 67, 0.15);\n",
              "    fill: var(--button-hover-fill-color);\n",
              "  }\n",
              "\n",
              "  .colab-df-quickchart-complete:disabled,\n",
              "  .colab-df-quickchart-complete:disabled:hover {\n",
              "    background-color: var(--disabled-bg-color);\n",
              "    fill: var(--disabled-fill-color);\n",
              "    box-shadow: none;\n",
              "  }\n",
              "\n",
              "  .colab-df-spinner {\n",
              "    border: 2px solid var(--fill-color);\n",
              "    border-color: transparent;\n",
              "    border-bottom-color: var(--fill-color);\n",
              "    animation:\n",
              "      spin 1s steps(1) infinite;\n",
              "  }\n",
              "\n",
              "  @keyframes spin {\n",
              "    0% {\n",
              "      border-color: transparent;\n",
              "      border-bottom-color: var(--fill-color);\n",
              "      border-left-color: var(--fill-color);\n",
              "    }\n",
              "    20% {\n",
              "      border-color: transparent;\n",
              "      border-left-color: var(--fill-color);\n",
              "      border-top-color: var(--fill-color);\n",
              "    }\n",
              "    30% {\n",
              "      border-color: transparent;\n",
              "      border-left-color: var(--fill-color);\n",
              "      border-top-color: var(--fill-color);\n",
              "      border-right-color: var(--fill-color);\n",
              "    }\n",
              "    40% {\n",
              "      border-color: transparent;\n",
              "      border-right-color: var(--fill-color);\n",
              "      border-top-color: var(--fill-color);\n",
              "    }\n",
              "    60% {\n",
              "      border-color: transparent;\n",
              "      border-right-color: var(--fill-color);\n",
              "    }\n",
              "    80% {\n",
              "      border-color: transparent;\n",
              "      border-right-color: var(--fill-color);\n",
              "      border-bottom-color: var(--fill-color);\n",
              "    }\n",
              "    90% {\n",
              "      border-color: transparent;\n",
              "      border-bottom-color: var(--fill-color);\n",
              "    }\n",
              "  }\n",
              "</style>\n",
              "\n",
              "  <script>\n",
              "    async function quickchart(key) {\n",
              "      const quickchartButtonEl =\n",
              "        document.querySelector('#' + key + ' button');\n",
              "      quickchartButtonEl.disabled = true;  // To prevent multiple clicks.\n",
              "      quickchartButtonEl.classList.add('colab-df-spinner');\n",
              "      try {\n",
              "        const charts = await google.colab.kernel.invokeFunction(\n",
              "            'suggestCharts', [key], {});\n",
              "      } catch (error) {\n",
              "        console.error('Error during call to suggestCharts:', error);\n",
              "      }\n",
              "      quickchartButtonEl.classList.remove('colab-df-spinner');\n",
              "      quickchartButtonEl.classList.add('colab-df-quickchart-complete');\n",
              "    }\n",
              "    (() => {\n",
              "      let quickchartButtonEl =\n",
              "        document.querySelector('#df-213e9c83-c298-4754-9cf1-933b04b6c1a4 button');\n",
              "      quickchartButtonEl.style.display =\n",
              "        google.colab.kernel.accessAllowed ? 'block' : 'none';\n",
              "    })();\n",
              "  </script>\n",
              "</div>\n",
              "\n",
              "    </div>\n",
              "  </div>\n"
            ],
            "application/vnd.google.colaboratory.intrinsic+json": {
              "type": "dataframe",
              "variable_name": "transformed_data"
            }
          },
          "metadata": {},
          "execution_count": 93
        }
      ]
    },
    {
      "cell_type": "code",
      "source": [
        "# Remove rows where 'movie_title' has duplicates (keep the first occurrence and drop others)\n",
        "cleaned_data = transformed_data.drop_duplicates(subset=['movie_title'], keep='first')\n",
        "# That removes movies wiht identical titles and avoid confusion in our machine learning models if movies names were used more than once."
      ],
      "metadata": {
        "id": "8v7cHx3IW755"
      },
      "execution_count": 94,
      "outputs": []
    },
    {
      "cell_type": "code",
      "source": [
        "# Show two first rows and the data size\n",
        "cleaned_data.shape\n",
        "print(cleaned_data.head(2))"
      ],
      "metadata": {
        "colab": {
          "base_uri": "https://localhost:8080/"
        },
        "id": "smmdTzKbDVW9",
        "outputId": "a62dbfbe-0221-4ba2-c6d3-e2488928ad37"
      },
      "execution_count": 95,
      "outputs": [
        {
          "output_type": "stream",
          "name": "stdout",
          "text": [
            "                                movie_title        gross       budget  \\\n",
            "0                                    Avatar  760505847.0  237000000.0   \n",
            "1  Pirates of the Caribbean: At World's End  309404152.0  300000000.0   \n",
            "\n",
            "  actor_1_name  actor_1_facebook_likes      actor_2_name  \\\n",
            "0  CCH Pounder                  1000.0  Joel David Moore   \n",
            "1  Johnny Depp                 40000.0     Orlando Bloom   \n",
            "\n",
            "   actor_2_facebook_likes    actor_3_name  actor_3_facebook_likes  \\\n",
            "0                   936.0       Wes Studi                   855.0   \n",
            "1                  5000.0  Jack Davenport                  1000.0   \n",
            "\n",
            "    director_name  ...  cast_total_facebook_likes  facenumber_in_poster  \\\n",
            "0   James Cameron  ...                       4834                   0.0   \n",
            "1  Gore Verbinski  ...                      48350                   0.0   \n",
            "\n",
            "   movie_facebook_likes                                      plot_keywords  \\\n",
            "0                 33000             avatar|future|marine|native|paraplegic   \n",
            "1                     0  goddess|marriage ceremony|marriage proposal|pi...   \n",
            "\n",
            "                            genres  language  country  content_rating  \\\n",
            "0  Action|Adventure|Fantasy|Sci-Fi   English      USA           PG-13   \n",
            "1         Action|Adventure|Fantasy   English      USA           PG-13   \n",
            "\n",
            "   imdb_score  color  \n",
            "0         7.9  Color  \n",
            "1         7.1  Color  \n",
            "\n",
            "[2 rows x 26 columns]\n"
          ]
        }
      ]
    },
    {
      "cell_type": "code",
      "source": [
        "# Make a copy of 'cleaned_data' for debugging purposes\n",
        "# for debugging purposes\n",
        "cleaned_data = cleaned_data.copy()\n",
        "\n",
        "# Create a new column for profit using .loc\n",
        "cleaned_data.loc[:, 'profit'] = cleaned_data['gross'] - cleaned_data['budget']\n"
      ],
      "metadata": {
        "id": "eM2_IUPSV2Km"
      },
      "execution_count": 96,
      "outputs": []
    },
    {
      "cell_type": "code",
      "source": [
        "# Ensure that the 'profit' column is numeric, and convert if necessary to integers\n",
        "cleaned_data['profit'] = pd.to_numeric(cleaned_data['profit'], errors='coerce').fillna(0).astype(int)\n",
        "# Show cleaned data size\n",
        "cleaned_data.shape"
      ],
      "metadata": {
        "colab": {
          "base_uri": "https://localhost:8080/"
        },
        "id": "NZuvRzSXWZRW",
        "outputId": "106e5aa0-edf7-4ca8-fa82-be752f2f72e8"
      },
      "execution_count": 97,
      "outputs": [
        {
          "output_type": "execute_result",
          "data": {
            "text/plain": [
              "(2945, 27)"
            ]
          },
          "metadata": {},
          "execution_count": 97
        }
      ]
    },
    {
      "cell_type": "code",
      "source": [
        "# Sorting the data by profit to find the top and bottom 5 movies\n",
        "top_5_profitable_movies = cleaned_data.sort_values(by='profit', ascending=False).head(5)\n",
        "bottom_5_profitable_movies = cleaned_data.sort_values(by='profit', ascending=True).head(5)"
      ],
      "metadata": {
        "id": "29NIDWDxhSkB"
      },
      "execution_count": 98,
      "outputs": []
    },
    {
      "cell_type": "code",
      "source": [
        "# Save files to the default Google Colab Directory\n",
        "cleaned_data.to_csv('/content/cleaned_data.csv', index=False)\n",
        "top_5_profitable_movies.to_csv('/content/top_5_profitable_movies.csv', index=False)\n",
        "bottom_5_profitable_movies.to_csv('/content/bottom_5_profitable_movies.csv', index=False)"
      ],
      "metadata": {
        "id": "0cSV164elHDF"
      },
      "execution_count": 99,
      "outputs": []
    },
    {
      "cell_type": "code",
      "source": [
        "# Visualization of the 5 most profitable movies\n",
        "plt.figure(figsize=(10, 5))\n",
        "plt.barh(top_5_profitable_movies['movie_title'], top_5_profitable_movies['profit'], color='green')  # Correct the order\n",
        "plt.xlabel('Profit (in hundreds of millions of dollars)')  # title of the axis label\n",
        "plt.title('Top 5 Most Profitable Movies') #plot title\n",
        "plt.gca().invert_yaxis()  # Invert to show sorted by the highest profit\n",
        "plt.show()"
      ],
      "metadata": {
        "colab": {
          "base_uri": "https://localhost:8080/",
          "height": 487
        },
        "id": "vi-7hvguhSne",
        "outputId": "b21d751b-db3f-4171-aff2-b2c9d1c31f20"
      },
      "execution_count": 100,
      "outputs": [
        {
          "output_type": "display_data",
          "data": {
            "text/plain": [
              "<Figure size 1000x500 with 1 Axes>"
            ],
            "image/png": "[encoded data removed]"
          },
          "metadata": {}
        }
      ]
    },
    {
      "cell_type": "code",
      "source": [
        "# Visualization: Plot the 5 least profitable movies\n",
        "plt.figure(figsize=(10, 5))\n",
        "plt.barh(bottom_5_profitable_movies['movie_title'], bottom_5_profitable_movies['profit'], color='red')\n",
        "plt.xlabel('Losses (in hundreds of millions of dollars)')\n",
        "plt.title('5 Least Profitable Movies')\n",
        "plt.gca().invert_yaxis()  # Invert to show the lowest at the top\n",
        "plt.show()"
      ],
      "metadata": {
        "colab": {
          "base_uri": "https://localhost:8080/",
          "height": 487
        },
        "id": "15VTzZR9hSxM",
        "outputId": "31ea1a0b-a672-4cf3-a5a1-b6a0356d7951"
      },
      "execution_count": 101,
      "outputs": [
        {
          "output_type": "display_data",
          "data": {
            "text/plain": [
              "<Figure size 1000x500 with 1 Axes>"
            ],
            "image/png": "[encoded data removed]"
          },
          "metadata": {}
        }
      ]
    },
    {
      "cell_type": "code",
      "source": [
        "# Display the top 5 most profitable and 5 least profitable movies\n",
        "print(top_5_profitable_movies[['movie_title', 'profit', 'gross', 'budget', 'director_name', 'actor_1_name', 'genres', 'country', 'movie_facebook_likes']])\n",
        "print(bottom_5_profitable_movies[['movie_title', 'profit', 'gross', 'director_name', 'actor_1_name', 'genres', 'country', 'movie_facebook_likes']])"
      ],
      "metadata": {
        "colab": {
          "base_uri": "https://localhost:8080/"
        },
        "id": "gn3aD0tdDVaH",
        "outputId": "4a3287db-742f-4c09-d521-77f092c50d73"
      },
      "execution_count": 102,
      "outputs": [
        {
          "output_type": "stream",
          "name": "stdout",
          "text": [
            "                             movie_title     profit        gross       budget  \\\n",
            "0                                 Avatar  523505847  760505847.0  237000000.0   \n",
            "29                        Jurassic World  502177271  652177271.0  150000000.0   \n",
            "26                               Titanic  458672302  658672302.0  200000000.0   \n",
            "3024  Star Wars: Episode IV - A New Hope  449935665  460935665.0   11000000.0   \n",
            "3080          E.T. the Extra-Terrestrial  424449459  434949459.0   10500000.0   \n",
            "\n",
            "         director_name         actor_1_name                            genres  \\\n",
            "0        James Cameron          CCH Pounder   Action|Adventure|Fantasy|Sci-Fi   \n",
            "29     Colin Trevorrow  Bryce Dallas Howard  Action|Adventure|Sci-Fi|Thriller   \n",
            "26       James Cameron    Leonardo DiCaprio                     Drama|Romance   \n",
            "3024      George Lucas        Harrison Ford   Action|Adventure|Fantasy|Sci-Fi   \n",
            "3080  Steven Spielberg         Henry Thomas                     Family|Sci-Fi   \n",
            "\n",
            "     country  movie_facebook_likes  \n",
            "0        USA                 33000  \n",
            "29       USA                150000  \n",
            "26       USA                 26000  \n",
            "3024     USA                 33000  \n",
            "3080     USA                 34000  \n",
            "              movie_title     profit       gross    director_name  \\\n",
            "5             John Carter -190641321  73058679.0   Andrew Stanton   \n",
            "91      The Polar Express -164334574    665426.0  Robert Zemeckis   \n",
            "28             Battleship -143826840  65173160.0       Peter Berg   \n",
            "85               47 Ronin -136702695  38297305.0      Carl Rinsch   \n",
            "49  Jack the Giant Slayer -129828140  65171860.0     Bryan Singer   \n",
            "\n",
            "    actor_1_name                              genres country  \\\n",
            "5   Daryl Sabara             Action|Adventure|Sci-Fi     USA   \n",
            "91     Tom Hanks  Adventure|Animation|Family|Fantasy     USA   \n",
            "28   Liam Neeson    Action|Adventure|Sci-Fi|Thriller     USA   \n",
            "85  Keanu Reeves      Action|Adventure|Drama|Fantasy     USA   \n",
            "49  Eddie Marsan                   Adventure|Fantasy     USA   \n",
            "\n",
            "    movie_facebook_likes  \n",
            "5                  24000  \n",
            "91                 10000  \n",
            "28                 44000  \n",
            "85                 35000  \n",
            "49                 22000  \n"
          ]
        }
      ]
    },
    {
      "cell_type": "code",
      "source": [],
      "metadata": {
        "id": "g6y3gJDfC8vN"
      },
      "execution_count": 102,
      "outputs": []
    },
    {
      "cell_type": "code",
      "source": [
        "# PART II: CALCULATING AVERAGES AND DISTRIBUTIONS"
      ],
      "metadata": {
        "id": "eM2xz_Ok0fW2"
      },
      "execution_count": 103,
      "outputs": []
    },
    {
      "cell_type": "code",
      "source": [],
      "metadata": {
        "id": "NuU0hykXr5NN"
      },
      "execution_count": 103,
      "outputs": []
    },
    {
      "cell_type": "code",
      "source": [],
      "metadata": {
        "id": "InRvd5n1r9MC"
      },
      "execution_count": 103,
      "outputs": []
    },
    {
      "cell_type": "code",
      "source": [
        "# PART III: MACHINE LEARNING MODELS USING CLEAN DATA using Google Colab\n",
        "# Both Linear Regression and Deep Learning models will be used in this part"
      ],
      "metadata": {
        "id": "E-aAxAbGuWOc"
      },
      "execution_count": 104,
      "outputs": []
    },
    {
      "cell_type": "code",
      "execution_count": 105,
      "metadata": {
        "colab": {
          "base_uri": "https://localhost:8080/"
        },
        "id": "a_KW73O2e3dw",
        "outputId": "bd04108a-e653-4823-fe57-4be9fe3c85e2"
      },
      "outputs": [
        {
          "output_type": "stream",
          "name": "stdout",
          "text": [
            "Hit:1 https://cloud.r-project.org/bin/linux/ubuntu jammy-cran40/ InRelease\n",
            "Get:2 https://developer.download.nvidia.com/compute/cuda/repos/ubuntu2204/x86_64  InRelease [1,581 B]\n",
            "Get:3 https://developer.download.nvidia.com/compute/cuda/repos/ubuntu2204/x86_64  Packages [1,031 kB]\n",
            "Hit:4 http://archive.ubuntu.com/ubuntu jammy InRelease\n",
            "Hit:5 http://security.ubuntu.com/ubuntu jammy-security InRelease\n",
            "Hit:6 http://archive.ubuntu.com/ubuntu jammy-updates InRelease\n",
            "Hit:7 http://archive.ubuntu.com/ubuntu jammy-backports InRelease\n",
            "Ign:8 https://r2u.stat.illinois.edu/ubuntu jammy InRelease\n",
            "Hit:9 https://r2u.stat.illinois.edu/ubuntu jammy Release\n",
            "Hit:11 https://ppa.launchpadcontent.net/deadsnakes/ppa/ubuntu jammy InRelease\n",
            "Hit:12 https://ppa.launchpadcontent.net/graphics-drivers/ppa/ubuntu jammy InRelease\n",
            "Hit:13 https://ppa.launchpadcontent.net/ubuntugis/ppa/ubuntu jammy InRelease\n",
            "Fetched 1,032 kB in 2s (594 kB/s)\n",
            "Reading package lists... Done\n",
            "W: Skipping acquire of configured file 'main/source/Sources' as repository 'https://r2u.stat.illinois.edu/ubuntu jammy InRelease' does not seem to provide it (sources.list entry misspelt?)\n"
          ]
        }
      ],
      "source": [
        "# Install Spark and Java\n",
        "import os\n",
        "# Set Environment Variables for Spark\n",
        "spark_version = 'spark-3.4.0'\n",
        "os.environ['SPARK_VERSION']=spark_version\n",
        "\n",
        "# Install Spark and Java\n",
        "!apt-get update\n",
        "!apt-get install openjdk-11-jdk-headless -qq > /dev/null\n",
        "!wget -q https://archive.apache.org/dist/spark/spark-3.4.0/spark-3.4.0-bin-hadoop3.tgz\n",
        "!tar xf $SPARK_VERSION-bin-hadoop3.tgz\n",
        "!pip install -q findspark\n",
        "\n",
        "# Set Java  and Spark Environment Variables\n",
        "os.environ[\"JAVA_HOME\"] = \"/usr/lib/jvm/java-11-openjdk-amd64\"\n",
        "os.environ[\"SPARK_HOME\"] = f\"/content/{spark_version}-bin-hadoop3\"\n",
        "\n",
        "# Initialize PySpark\n",
        "import findspark\n",
        "findspark.init()\n",
        "\n",
        "# Import PySpark DataFrame functions (round, col, sum etc.) with shorter alias\n",
        "from pyspark.sql import functions as F"
      ]
    },
    {
      "cell_type": "code",
      "execution_count": 106,
      "metadata": {
        "id": "2XbWNf1Te5fM"
      },
      "outputs": [],
      "source": [
        "# Import packages\n",
        "from pyspark.sql import SparkSession\n",
        "import time\n",
        "\n",
        "# Create a SparkSession\n",
        "spark = SparkSession.builder.appName(\"SparkSQL\").config(\"spark.driver.memory\", \"2g\").getOrCreate()"
      ]
    },
    {
      "cell_type": "code",
      "execution_count": 107,
      "metadata": {
        "id": "wOJqxG_RPSwp",
        "colab": {
          "base_uri": "https://localhost:8080/",
          "height": 377
        },
        "outputId": "3ce70d7c-d9a2-4971-a9e0-cef35003a6e2"
      },
      "outputs": [
        {
          "output_type": "execute_result",
          "data": {
            "text/plain": [
              "                                movie_title        gross       budget  \\\n",
              "0                                    Avatar  760505847.0  237000000.0   \n",
              "1  Pirates of the Caribbean: At World's End  309404152.0  300000000.0   \n",
              "2                     The Dark Knight Rises  448130642.0  250000000.0   \n",
              "3                               John Carter   73058679.0  263700000.0   \n",
              "4                              Spider-Man 3  336530303.0  258000000.0   \n",
              "\n",
              "   actor_1_name  actor_1_facebook_likes      actor_2_name  \\\n",
              "0   CCH Pounder                  1000.0  Joel David Moore   \n",
              "1   Johnny Depp                 40000.0     Orlando Bloom   \n",
              "2     Tom Hardy                 27000.0    Christian Bale   \n",
              "3  Daryl Sabara                   640.0   Samantha Morton   \n",
              "4  J.K. Simmons                 24000.0      James Franco   \n",
              "\n",
              "   actor_2_facebook_likes          actor_3_name  actor_3_facebook_likes  \\\n",
              "0                   936.0             Wes Studi                   855.0   \n",
              "1                  5000.0        Jack Davenport                  1000.0   \n",
              "2                 23000.0  Joseph Gordon-Levitt                 23000.0   \n",
              "3                   632.0          Polly Walker                   530.0   \n",
              "4                 11000.0         Kirsten Dunst                  4000.0   \n",
              "\n",
              "       director_name  ...  facenumber_in_poster  movie_facebook_likes  \\\n",
              "0      James Cameron  ...                   0.0                 33000   \n",
              "1     Gore Verbinski  ...                   0.0                     0   \n",
              "2  Christopher Nolan  ...                   0.0                164000   \n",
              "3     Andrew Stanton  ...                   1.0                 24000   \n",
              "4          Sam Raimi  ...                   0.0                     0   \n",
              "\n",
              "                                       plot_keywords  \\\n",
              "0             avatar|future|marine|native|paraplegic   \n",
              "1  goddess|marriage ceremony|marriage proposal|pi...   \n",
              "2  deception|imprisonment|lawlessness|police offi...   \n",
              "3  alien|american civil war|male nipple|mars|prin...   \n",
              "4          sandman|spider man|symbiote|venom|villain   \n",
              "\n",
              "                            genres  language  country  content_rating  \\\n",
              "0  Action|Adventure|Fantasy|Sci-Fi   English      USA           PG-13   \n",
              "1         Action|Adventure|Fantasy   English      USA           PG-13   \n",
              "2                  Action|Thriller   English      USA           PG-13   \n",
              "3          Action|Adventure|Sci-Fi   English      USA           PG-13   \n",
              "4         Action|Adventure|Romance   English      USA           PG-13   \n",
              "\n",
              "   imdb_score  color     profit  \n",
              "0         7.9  Color  523505847  \n",
              "1         7.1  Color    9404152  \n",
              "2         8.5  Color  198130642  \n",
              "3         6.6  Color -190641321  \n",
              "4         6.2  Color   78530303  \n",
              "\n",
              "[5 rows x 27 columns]"
            ],
            "text/html": [
              "\n",
              "  <div id=\"df-adf38c11-5be8-418a-a90b-66c73cfce5b7\" class=\"colab-df-container\">\n",
              "    <div>\n",
              "<style scoped>\n",
              "    .dataframe tbody tr th:only-of-type {\n",
              "        vertical-align: middle;\n",
              "    }\n",
              "\n",
              "    .dataframe tbody tr th {\n",
              "        vertical-align: top;\n",
              "    }\n",
              "\n",
              "    .dataframe thead th {\n",
              "        text-align: right;\n",
              "    }\n",
              "</style>\n",
              "<table border=\"1\" class=\"dataframe\">\n",
              "  <thead>\n",
              "    <tr style=\"text-align: right;\">\n",
              "      <th></th>\n",
              "      <th>movie_title</th>\n",
              "      <th>gross</th>\n",
              "      <th>budget</th>\n",
              "      <th>actor_1_name</th>\n",
              "      <th>actor_1_facebook_likes</th>\n",
              "      <th>actor_2_name</th>\n",
              "      <th>actor_2_facebook_likes</th>\n",
              "      <th>actor_3_name</th>\n",
              "      <th>actor_3_facebook_likes</th>\n",
              "      <th>director_name</th>\n",
              "      <th>...</th>\n",
              "      <th>facenumber_in_poster</th>\n",
              "      <th>movie_facebook_likes</th>\n",
              "      <th>plot_keywords</th>\n",
              "      <th>genres</th>\n",
              "      <th>language</th>\n",
              "      <th>country</th>\n",
              "      <th>content_rating</th>\n",
              "      <th>imdb_score</th>\n",
              "      <th>color</th>\n",
              "      <th>profit</th>\n",
              "    </tr>\n",
              "  </thead>\n",
              "  <tbody>\n",
              "    <tr>\n",
              "      <th>0</th>\n",
              "      <td>Avatar</td>\n",
              "      <td>760505847.0</td>\n",
              "      <td>237000000.0</td>\n",
              "      <td>CCH Pounder</td>\n",
              "      <td>1000.0</td>\n",
              "      <td>Joel David Moore</td>\n",
              "      <td>936.0</td>\n",
              "      <td>Wes Studi</td>\n",
              "      <td>855.0</td>\n",
              "      <td>James Cameron</td>\n",
              "      <td>...</td>\n",
              "      <td>0.0</td>\n",
              "      <td>33000</td>\n",
              "      <td>avatar|future|marine|native|paraplegic</td>\n",
              "      <td>Action|Adventure|Fantasy|Sci-Fi</td>\n",
              "      <td>English</td>\n",
              "      <td>USA</td>\n",
              "      <td>PG-13</td>\n",
              "      <td>7.9</td>\n",
              "      <td>Color</td>\n",
              "      <td>523505847</td>\n",
              "    </tr>\n",
              "    <tr>\n",
              "      <th>1</th>\n",
              "      <td>Pirates of the Caribbean: At World's End</td>\n",
              "      <td>309404152.0</td>\n",
              "      <td>300000000.0</td>\n",
              "      <td>Johnny Depp</td>\n",
              "      <td>40000.0</td>\n",
              "      <td>Orlando Bloom</td>\n",
              "      <td>5000.0</td>\n",
              "      <td>Jack Davenport</td>\n",
              "      <td>1000.0</td>\n",
              "      <td>Gore Verbinski</td>\n",
              "      <td>...</td>\n",
              "      <td>0.0</td>\n",
              "      <td>0</td>\n",
              "      <td>goddess|marriage ceremony|marriage proposal|pi...</td>\n",
              "      <td>Action|Adventure|Fantasy</td>\n",
              "      <td>English</td>\n",
              "      <td>USA</td>\n",
              "      <td>PG-13</td>\n",
              "      <td>7.1</td>\n",
              "      <td>Color</td>\n",
              "      <td>9404152</td>\n",
              "    </tr>\n",
              "    <tr>\n",
              "      <th>2</th>\n",
              "      <td>The Dark Knight Rises</td>\n",
              "      <td>448130642.0</td>\n",
              "      <td>250000000.0</td>\n",
              "      <td>Tom Hardy</td>\n",
              "      <td>27000.0</td>\n",
              "      <td>Christian Bale</td>\n",
              "      <td>23000.0</td>\n",
              "      <td>Joseph Gordon-Levitt</td>\n",
              "      <td>23000.0</td>\n",
              "      <td>Christopher Nolan</td>\n",
              "      <td>...</td>\n",
              "      <td>0.0</td>\n",
              "      <td>164000</td>\n",
              "      <td>deception|imprisonment|lawlessness|police offi...</td>\n",
              "      <td>Action|Thriller</td>\n",
              "      <td>English</td>\n",
              "      <td>USA</td>\n",
              "      <td>PG-13</td>\n",
              "      <td>8.5</td>\n",
              "      <td>Color</td>\n",
              "      <td>198130642</td>\n",
              "    </tr>\n",
              "    <tr>\n",
              "      <th>3</th>\n",
              "      <td>John Carter</td>\n",
              "      <td>73058679.0</td>\n",
              "      <td>263700000.0</td>\n",
              "      <td>Daryl Sabara</td>\n",
              "      <td>640.0</td>\n",
              "      <td>Samantha Morton</td>\n",
              "      <td>632.0</td>\n",
              "      <td>Polly Walker</td>\n",
              "      <td>530.0</td>\n",
              "      <td>Andrew Stanton</td>\n",
              "      <td>...</td>\n",
              "      <td>1.0</td>\n",
              "      <td>24000</td>\n",
              "      <td>alien|american civil war|male nipple|mars|prin...</td>\n",
              "      <td>Action|Adventure|Sci-Fi</td>\n",
              "      <td>English</td>\n",
              "      <td>USA</td>\n",
              "      <td>PG-13</td>\n",
              "      <td>6.6</td>\n",
              "      <td>Color</td>\n",
              "      <td>-190641321</td>\n",
              "    </tr>\n",
              "    <tr>\n",
              "      <th>4</th>\n",
              "      <td>Spider-Man 3</td>\n",
              "      <td>336530303.0</td>\n",
              "      <td>258000000.0</td>\n",
              "      <td>J.K. Simmons</td>\n",
              "      <td>24000.0</td>\n",
              "      <td>James Franco</td>\n",
              "      <td>11000.0</td>\n",
              "      <td>Kirsten Dunst</td>\n",
              "      <td>4000.0</td>\n",
              "      <td>Sam Raimi</td>\n",
              "      <td>...</td>\n",
              "      <td>0.0</td>\n",
              "      <td>0</td>\n",
              "      <td>sandman|spider man|symbiote|venom|villain</td>\n",
              "      <td>Action|Adventure|Romance</td>\n",
              "      <td>English</td>\n",
              "      <td>USA</td>\n",
              "      <td>PG-13</td>\n",
              "      <td>6.2</td>\n",
              "      <td>Color</td>\n",
              "      <td>78530303</td>\n",
              "    </tr>\n",
              "  </tbody>\n",
              "</table>\n",
              "<p>5 rows × 27 columns</p>\n",
              "</div>\n",
              "    <div class=\"colab-df-buttons\">\n",
              "\n",
              "  <div class=\"colab-df-container\">\n",
              "    <button class=\"colab-df-convert\" onclick=\"convertToInteractive('df-adf38c11-5be8-418a-a90b-66c73cfce5b7')\"\n",
              "            title=\"Convert this dataframe to an interactive table.\"\n",
              "            style=\"display:none;\">\n",
              "\n",
              "  <svg xmlns=\"http://www.w3.org/2000/svg\" height=\"24px\" viewBox=\"0 -960 960 960\">\n",
              "    <path d=\"M120-120v-720h720v720H120Zm60-500h600v-160H180v160Zm220 220h160v-160H400v160Zm0 220h160v-160H400v160ZM180-400h160v-160H180v160Zm440 0h160v-160H620v160ZM180-180h160v-160H180v160Zm440 0h160v-160H620v160Z\"/>\n",
              "  </svg>\n",
              "    </button>\n",
              "\n",
              "  <style>\n",
              "    .colab-df-container {\n",
              "      display:flex;\n",
              "      gap: 12px;\n",
              "    }\n",
              "\n",
              "    .colab-df-convert {\n",
              "      background-color: #E8F0FE;\n",
              "      border: none;\n",
              "      border-radius: 50%;\n",
              "      cursor: pointer;\n",
              "      display: none;\n",
              "      fill: #1967D2;\n",
              "      height: 32px;\n",
              "      padding: 0 0 0 0;\n",
              "      width: 32px;\n",
              "    }\n",
              "\n",
              "    .colab-df-convert:hover {\n",
              "      background-color: #E2EBFA;\n",
              "      box-shadow: 0px 1px 2px rgba(60, 64, 67, 0.3), 0px 1px 3px 1px rgba(60, 64, 67, 0.15);\n",
              "      fill: #174EA6;\n",
              "    }\n",
              "\n",
              "    .colab-df-buttons div {\n",
              "      margin-bottom: 4px;\n",
              "    }\n",
              "\n",
              "    [theme=dark] .colab-df-convert {\n",
              "      background-color: #3B4455;\n",
              "      fill: #D2E3FC;\n",
              "    }\n",
              "\n",
              "    [theme=dark] .colab-df-convert:hover {\n",
              "      background-color: #434B5C;\n",
              "      box-shadow: 0px 1px 3px 1px rgba(0, 0, 0, 0.15);\n",
              "      filter: drop-shadow(0px 1px 2px rgba(0, 0, 0, 0.3));\n",
              "      fill: #FFFFFF;\n",
              "    }\n",
              "  </style>\n",
              "\n",
              "    <script>\n",
              "      const buttonEl =\n",
              "        document.querySelector('#df-adf38c11-5be8-418a-a90b-66c73cfce5b7 button.colab-df-convert');\n",
              "      buttonEl.style.display =\n",
              "        google.colab.kernel.accessAllowed ? 'block' : 'none';\n",
              "\n",
              "      async function convertToInteractive(key) {\n",
              "        const element = document.querySelector('#df-adf38c11-5be8-418a-a90b-66c73cfce5b7');\n",
              "        const dataTable =\n",
              "          await google.colab.kernel.invokeFunction('convertToInteractive',\n",
              "                                                    [key], {});\n",
              "        if (!dataTable) return;\n",
              "\n",
              "        const docLinkHtml = 'Like what you see? Visit the ' +\n",
              "          '<a target=\"_blank\" href=https://colab.research.google.com/notebooks/data_table.ipynb>data table notebook</a>'\n",
              "          + ' to learn more about interactive tables.';\n",
              "        element.innerHTML = '';\n",
              "        dataTable['output_type'] = 'display_data';\n",
              "        await google.colab.output.renderOutput(dataTable, element);\n",
              "        const docLink = document.createElement('div');\n",
              "        docLink.innerHTML = docLinkHtml;\n",
              "        element.appendChild(docLink);\n",
              "      }\n",
              "    </script>\n",
              "  </div>\n",
              "\n",
              "\n",
              "<div id=\"df-736b534d-2bdc-42f0-b1f8-523902515712\">\n",
              "  <button class=\"colab-df-quickchart\" onclick=\"quickchart('df-736b534d-2bdc-42f0-b1f8-523902515712')\"\n",
              "            title=\"Suggest charts\"\n",
              "            style=\"display:none;\">\n",
              "\n",
              "<svg xmlns=\"http://www.w3.org/2000/svg\" height=\"24px\"viewBox=\"0 0 24 24\"\n",
              "     width=\"24px\">\n",
              "    <g>\n",
              "        <path d=\"M19 3H5c-1.1 0-2 .9-2 2v14c0 1.1.9 2 2 2h14c1.1 0 2-.9 2-2V5c0-1.1-.9-2-2-2zM9 17H7v-7h2v7zm4 0h-2V7h2v10zm4 0h-2v-4h2v4z\"/>\n",
              "    </g>\n",
              "</svg>\n",
              "  </button>\n",
              "\n",
              "<style>\n",
              "  .colab-df-quickchart {\n",
              "      --bg-color: #E8F0FE;\n",
              "      --fill-color: #1967D2;\n",
              "      --hover-bg-color: #E2EBFA;\n",
              "      --hover-fill-color: #174EA6;\n",
              "      --disabled-fill-color: #AAA;\n",
              "      --disabled-bg-color: #DDD;\n",
              "  }\n",
              "\n",
              "  [theme=dark] .colab-df-quickchart {\n",
              "      --bg-color: #3B4455;\n",
              "      --fill-color: #D2E3FC;\n",
              "      --hover-bg-color: #434B5C;\n",
              "      --hover-fill-color: #FFFFFF;\n",
              "      --disabled-bg-color: #3B4455;\n",
              "      --disabled-fill-color: #666;\n",
              "  }\n",
              "\n",
              "  .colab-df-quickchart {\n",
              "    background-color: var(--bg-color);\n",
              "    border: none;\n",
              "    border-radius: 50%;\n",
              "    cursor: pointer;\n",
              "    display: none;\n",
              "    fill: var(--fill-color);\n",
              "    height: 32px;\n",
              "    padding: 0;\n",
              "    width: 32px;\n",
              "  }\n",
              "\n",
              "  .colab-df-quickchart:hover {\n",
              "    background-color: var(--hover-bg-color);\n",
              "    box-shadow: 0 1px 2px rgba(60, 64, 67, 0.3), 0 1px 3px 1px rgba(60, 64, 67, 0.15);\n",
              "    fill: var(--button-hover-fill-color);\n",
              "  }\n",
              "\n",
              "  .colab-df-quickchart-complete:disabled,\n",
              "  .colab-df-quickchart-complete:disabled:hover {\n",
              "    background-color: var(--disabled-bg-color);\n",
              "    fill: var(--disabled-fill-color);\n",
              "    box-shadow: none;\n",
              "  }\n",
              "\n",
              "  .colab-df-spinner {\n",
              "    border: 2px solid var(--fill-color);\n",
              "    border-color: transparent;\n",
              "    border-bottom-color: var(--fill-color);\n",
              "    animation:\n",
              "      spin 1s steps(1) infinite;\n",
              "  }\n",
              "\n",
              "  @keyframes spin {\n",
              "    0% {\n",
              "      border-color: transparent;\n",
              "      border-bottom-color: var(--fill-color);\n",
              "      border-left-color: var(--fill-color);\n",
              "    }\n",
              "    20% {\n",
              "      border-color: transparent;\n",
              "      border-left-color: var(--fill-color);\n",
              "      border-top-color: var(--fill-color);\n",
              "    }\n",
              "    30% {\n",
              "      border-color: transparent;\n",
              "      border-left-color: var(--fill-color);\n",
              "      border-top-color: var(--fill-color);\n",
              "      border-right-color: var(--fill-color);\n",
              "    }\n",
              "    40% {\n",
              "      border-color: transparent;\n",
              "      border-right-color: var(--fill-color);\n",
              "      border-top-color: var(--fill-color);\n",
              "    }\n",
              "    60% {\n",
              "      border-color: transparent;\n",
              "      border-right-color: var(--fill-color);\n",
              "    }\n",
              "    80% {\n",
              "      border-color: transparent;\n",
              "      border-right-color: var(--fill-color);\n",
              "      border-bottom-color: var(--fill-color);\n",
              "    }\n",
              "    90% {\n",
              "      border-color: transparent;\n",
              "      border-bottom-color: var(--fill-color);\n",
              "    }\n",
              "  }\n",
              "</style>\n",
              "\n",
              "  <script>\n",
              "    async function quickchart(key) {\n",
              "      const quickchartButtonEl =\n",
              "        document.querySelector('#' + key + ' button');\n",
              "      quickchartButtonEl.disabled = true;  // To prevent multiple clicks.\n",
              "      quickchartButtonEl.classList.add('colab-df-spinner');\n",
              "      try {\n",
              "        const charts = await google.colab.kernel.invokeFunction(\n",
              "            'suggestCharts', [key], {});\n",
              "      } catch (error) {\n",
              "        console.error('Error during call to suggestCharts:', error);\n",
              "      }\n",
              "      quickchartButtonEl.classList.remove('colab-df-spinner');\n",
              "      quickchartButtonEl.classList.add('colab-df-quickchart-complete');\n",
              "    }\n",
              "    (() => {\n",
              "      let quickchartButtonEl =\n",
              "        document.querySelector('#df-736b534d-2bdc-42f0-b1f8-523902515712 button');\n",
              "      quickchartButtonEl.style.display =\n",
              "        google.colab.kernel.accessAllowed ? 'block' : 'none';\n",
              "    })();\n",
              "  </script>\n",
              "</div>\n",
              "\n",
              "    </div>\n",
              "  </div>\n"
            ],
            "application/vnd.google.colaboratory.intrinsic+json": {
              "type": "dataframe",
              "variable_name": "movie_data"
            }
          },
          "metadata": {},
          "execution_count": 107
        }
      ],
      "source": [
        "# Load the 'cleaned_data.csv' file from the Colab default content directory\n",
        "cleaned_data = pd.read_csv('/content/cleaned_data.csv')\n",
        "\n",
        "# Create a copy of the data to keep the original data intact in case of any errors\n",
        "movie_data = cleaned_data.copy()\n",
        "# Display the first 5 rows of the loaded data\n",
        "movie_data.head()\n"
      ]
    },
    {
      "cell_type": "code",
      "source": [
        "# Get the number of rows in the date (to verify the data size)\n",
        "num_rows = movie_data.shape[0]\n",
        "# Print the result\n",
        "print(f\"Number of rows in the dataset: {num_rows}\")"
      ],
      "metadata": {
        "colab": {
          "base_uri": "https://localhost:8080/"
        },
        "id": "okdzFVTG4HlT",
        "outputId": "18bf126f-56d1-4be6-8c33-f232b18c6b31"
      },
      "execution_count": 108,
      "outputs": [
        {
          "output_type": "stream",
          "name": "stdout",
          "text": [
            "Number of rows in the dataset: 2945\n"
          ]
        }
      ]
    },
    {
      "cell_type": "code",
      "source": [
        "# Verify success of data clean up: Check for missing values in the 'updated_data' DataFrame\n",
        "missing_values = movie_data.isnull().sum()\n",
        "\n",
        "# Display the result\n",
        "print(missing_values)"
      ],
      "metadata": {
        "colab": {
          "base_uri": "https://localhost:8080/"
        },
        "id": "18Ern8aB4QMU",
        "outputId": "16ff9123-2fd1-4f1a-b5ba-a5a0d1968954"
      },
      "execution_count": 109,
      "outputs": [
        {
          "output_type": "stream",
          "name": "stdout",
          "text": [
            "movie_title                  0\n",
            "gross                        0\n",
            "budget                       0\n",
            "actor_1_name                 0\n",
            "actor_1_facebook_likes       0\n",
            "actor_2_name                 0\n",
            "actor_2_facebook_likes       0\n",
            "actor_3_name                 0\n",
            "actor_3_facebook_likes       0\n",
            "director_name                0\n",
            "director_facebook_likes      0\n",
            "duration                     0\n",
            "title_year                   0\n",
            "num_critic_for_reviews       0\n",
            "num_user_for_reviews         0\n",
            "num_voted_users              0\n",
            "cast_total_facebook_likes    0\n",
            "facenumber_in_poster         0\n",
            "movie_facebook_likes         0\n",
            "plot_keywords                0\n",
            "genres                       0\n",
            "language                     0\n",
            "country                      0\n",
            "content_rating               0\n",
            "imdb_score                   0\n",
            "color                        0\n",
            "profit                       0\n",
            "dtype: int64\n"
          ]
        }
      ]
    },
    {
      "cell_type": "code",
      "source": [
        "# The outlook above shows that the data no longer has any missing values."
      ],
      "metadata": {
        "id": "6aVFu-QpyFlM"
      },
      "execution_count": 110,
      "outputs": []
    },
    {
      "cell_type": "code",
      "source": [
        "# Further look at our data: Determine the number of unique values in each column\n",
        "# to explore the possibility of binning rare values in nearon network models\n",
        "unique_values = movie_data.nunique()\n",
        "print(unique_values)"
      ],
      "metadata": {
        "colab": {
          "base_uri": "https://localhost:8080/"
        },
        "id": "iByPWaEt4Qan",
        "outputId": "bb3d72eb-f99c-4988-9324-3af78d9507b5"
      },
      "execution_count": 111,
      "outputs": [
        {
          "output_type": "stream",
          "name": "stdout",
          "text": [
            "movie_title                  2945\n",
            "gross                        2934\n",
            "budget                        296\n",
            "actor_1_name                 1153\n",
            "actor_1_facebook_likes        596\n",
            "actor_2_name                 1784\n",
            "actor_2_facebook_likes        789\n",
            "actor_3_name                 2121\n",
            "actor_3_facebook_likes        851\n",
            "director_name                1386\n",
            "director_facebook_likes       362\n",
            "duration                      140\n",
            "title_year                     68\n",
            "num_critic_for_reviews        503\n",
            "num_user_for_reviews          869\n",
            "num_voted_users              2921\n",
            "cast_total_facebook_likes    2688\n",
            "facenumber_in_poster           19\n",
            "movie_facebook_likes          578\n",
            "plot_keywords                2945\n",
            "genres                        647\n",
            "language                        9\n",
            "country                         1\n",
            "content_rating                 11\n",
            "imdb_score                     74\n",
            "color                           2\n",
            "profit                       2939\n",
            "dtype: int64\n"
          ]
        }
      ]
    },
    {
      "cell_type": "code",
      "source": [
        "# Check the distribution of values in the 'gross' and 'budget' columns\n",
        "# to explore the possibility of binning rare values (in nearon network models)\n",
        "gross_type_counts = movie_data['gross'].value_counts()\n",
        "budget_type_counts = movie_data['budget'].value_counts()\n",
        "# Display the results\n",
        "print(gross_type_counts)\n",
        "print(budget_type_counts)\n"
      ],
      "metadata": {
        "colab": {
          "base_uri": "https://localhost:8080/"
        },
        "id": "NPVGqkRr4Qdx",
        "outputId": "634a2735-b105-45f3-afd6-511f43850122"
      },
      "execution_count": 112,
      "outputs": [
        {
          "output_type": "stream",
          "name": "stdout",
          "text": [
            "gross\n",
            "8000000.0      3\n",
            "25000000.0     2\n",
            "69800000.0     2\n",
            "141600000.0    2\n",
            "36000000.0     2\n",
            "              ..\n",
            "94125426.0     1\n",
            "95001343.0     1\n",
            "81292135.0     1\n",
            "86208010.0     1\n",
            "85222.0        1\n",
            "Name: count, Length: 2934, dtype: int64\n",
            "budget\n",
            "20000000.0    128\n",
            "40000000.0    113\n",
            "30000000.0    110\n",
            "25000000.0     99\n",
            "15000000.0     94\n",
            "             ... \n",
            "8700000.0       1\n",
            "16800000.0      1\n",
            "16400000.0      1\n",
            "17700000.0      1\n",
            "1100.0          1\n",
            "Name: count, Length: 296, dtype: int64\n"
          ]
        }
      ]
    },
    {
      "cell_type": "code",
      "source": [],
      "metadata": {
        "id": "PdPSLQ2m4xfl"
      },
      "execution_count": 112,
      "outputs": []
    },
    {
      "cell_type": "code",
      "source": [],
      "metadata": {
        "id": "dGHELqHF4xrj"
      },
      "execution_count": 112,
      "outputs": []
    },
    {
      "cell_type": "code",
      "source": [],
      "metadata": {
        "id": "pGaVLkOf4QhM"
      },
      "execution_count": 112,
      "outputs": []
    },
    {
      "cell_type": "code",
      "execution_count": 113,
      "metadata": {
        "id": "RoljcJ7WPpnm",
        "colab": {
          "base_uri": "https://localhost:8080/"
        },
        "outputId": "f6993bb2-1b4d-46f9-d645-bb4250a76f0e"
      },
      "outputs": [
        {
          "output_type": "stream",
          "name": "stdout",
          "text": [
            "root\n",
            " |-- movie_title: string (nullable = true)\n",
            " |-- gross: double (nullable = true)\n",
            " |-- budget: double (nullable = true)\n",
            " |-- actor_1_name: string (nullable = true)\n",
            " |-- actor_1_facebook_likes: double (nullable = true)\n",
            " |-- actor_2_name: string (nullable = true)\n",
            " |-- actor_2_facebook_likes: double (nullable = true)\n",
            " |-- actor_3_name: string (nullable = true)\n",
            " |-- actor_3_facebook_likes: double (nullable = true)\n",
            " |-- director_name: string (nullable = true)\n",
            " |-- director_facebook_likes: double (nullable = true)\n",
            " |-- duration: double (nullable = true)\n",
            " |-- title_year: long (nullable = true)\n",
            " |-- num_critic_for_reviews: double (nullable = true)\n",
            " |-- num_user_for_reviews: double (nullable = true)\n",
            " |-- num_voted_users: long (nullable = true)\n",
            " |-- cast_total_facebook_likes: long (nullable = true)\n",
            " |-- facenumber_in_poster: double (nullable = true)\n",
            " |-- movie_facebook_likes: long (nullable = true)\n",
            " |-- plot_keywords: string (nullable = true)\n",
            " |-- genres: string (nullable = true)\n",
            " |-- language: string (nullable = true)\n",
            " |-- country: string (nullable = true)\n",
            " |-- content_rating: string (nullable = true)\n",
            " |-- imdb_score: double (nullable = true)\n",
            " |-- color: string (nullable = true)\n",
            " |-- profit: long (nullable = true)\n",
            "\n",
            "+--------------------+------------+------+------------+----------------------+----------------+----------------------+--------------------+----------------------+-----------------+-----------------------+--------+----------+----------------------+--------------------+---------------+-------------------------+--------------------+--------------------+--------------------+--------------------+--------+-------+--------------+----------+-----+---------+\n",
            "|         movie_title|       gross|budget|actor_1_name|actor_1_facebook_likes|    actor_2_name|actor_2_facebook_likes|        actor_3_name|actor_3_facebook_likes|    director_name|director_facebook_likes|duration|title_year|num_critic_for_reviews|num_user_for_reviews|num_voted_users|cast_total_facebook_likes|facenumber_in_poster|movie_facebook_likes|       plot_keywords|              genres|language|country|content_rating|imdb_score|color|   profit|\n",
            "+--------------------+------------+------+------------+----------------------+----------------+----------------------+--------------------+----------------------+-----------------+-----------------------+--------+----------+----------------------+--------------------+---------------+-------------------------+--------------------+--------------------+--------------------+--------------------+--------+-------+--------------+----------+-----+---------+\n",
            "|              Avatar|7.60505847E8|2.37E8| CCH Pounder|                1000.0|Joel David Moore|                 936.0|           Wes Studi|                 855.0|    James Cameron|                    0.0|   178.0|      2009|                 723.0|              3054.0|         886204|                     4834|                 0.0|               33000|avatar|future|mar...|Action|Adventure|...| English|    USA|         PG-13|       7.9|Color|523505847|\n",
            "|Pirates of the Ca...|3.09404152E8| 3.0E8| Johnny Depp|               40000.0|   Orlando Bloom|                5000.0|      Jack Davenport|                1000.0|   Gore Verbinski|                  563.0|   169.0|      2007|                 302.0|              1238.0|         471220|                    48350|                 0.0|                   0|goddess|marriage ...|Action|Adventure|...| English|    USA|         PG-13|       7.1|Color|  9404152|\n",
            "|The Dark Knight R...|4.48130642E8| 2.5E8|   Tom Hardy|               27000.0|  Christian Bale|               23000.0|Joseph Gordon-Levitt|               23000.0|Christopher Nolan|                22000.0|   164.0|      2012|                 813.0|              2701.0|        1144337|                   106759|                 0.0|              164000|deception|impriso...|     Action|Thriller| English|    USA|         PG-13|       8.5|Color|198130642|\n",
            "+--------------------+------------+------+------------+----------------------+----------------+----------------------+--------------------+----------------------+-----------------+-----------------------+--------+----------+----------------------+--------------------+---------------+-------------------------+--------------------+--------------------+--------------------+--------------------+--------+-------+--------------+----------+-----+---------+\n",
            "\n"
          ]
        }
      ],
      "source": [
        "# Convert the Pandas DataFrame to a PySpark DataFrame\n",
        "spark_movie_data = spark.createDataFrame(movie_data)\n",
        "\n",
        "# Create a temporary view of the PySpark DataFrame\n",
        "spark_movie_data.createOrReplaceTempView('movies')\n",
        "\n",
        "# Get the data types of the columns for the PySpark DataFrame\n",
        "spark_movie_data.printSchema()\n",
        "\n",
        "# Run SQL queries on the DataFrame, use spark.sql\n",
        "spark.sql(\"SELECT * FROM movies LIMIT 3\").show()"
      ]
    },
    {
      "cell_type": "code",
      "source": [
        "# Convert the 'duration', 'gross', 'budget' columns from double to integer\n",
        "# Convert 'title_year' to integer format (for machine learning models)\n",
        "spark_movie_data = spark_movie_data \\\n",
        "    .withColumn(\"duration\", F.col(\"duration\").cast(\"int\")) \\\n",
        "    .withColumn(\"gross\", F.col(\"gross\").cast(\"int\")) \\\n",
        "    .withColumn(\"budget\", F.col(\"budget\").cast(\"int\")) \\\n",
        "    .withColumn(\"title_year\", F.col(\"title_year\").cast(\"int\"))\n",
        "\n",
        "# Verify the schema after conversion\n",
        "spark_movie_data.printSchema()\n",
        "\n",
        "# Run a SQL query to verify the changes\n",
        "spark_movie_data.createOrReplaceTempView('movies')\n",
        "spark.sql(\"SELECT duration, gross, budget, title_year FROM movies LIMIT 3\").show()"
      ],
      "metadata": {
        "colab": {
          "base_uri": "https://localhost:8080/"
        },
        "id": "rfKObzVX3taF",
        "outputId": "2380619b-6575-4b5c-ec03-3af7ad7ea62c"
      },
      "execution_count": 114,
      "outputs": [
        {
          "output_type": "stream",
          "name": "stdout",
          "text": [
            "root\n",
            " |-- movie_title: string (nullable = true)\n",
            " |-- gross: integer (nullable = true)\n",
            " |-- budget: integer (nullable = true)\n",
            " |-- actor_1_name: string (nullable = true)\n",
            " |-- actor_1_facebook_likes: double (nullable = true)\n",
            " |-- actor_2_name: string (nullable = true)\n",
            " |-- actor_2_facebook_likes: double (nullable = true)\n",
            " |-- actor_3_name: string (nullable = true)\n",
            " |-- actor_3_facebook_likes: double (nullable = true)\n",
            " |-- director_name: string (nullable = true)\n",
            " |-- director_facebook_likes: double (nullable = true)\n",
            " |-- duration: integer (nullable = true)\n",
            " |-- title_year: integer (nullable = true)\n",
            " |-- num_critic_for_reviews: double (nullable = true)\n",
            " |-- num_user_for_reviews: double (nullable = true)\n",
            " |-- num_voted_users: long (nullable = true)\n",
            " |-- cast_total_facebook_likes: long (nullable = true)\n",
            " |-- facenumber_in_poster: double (nullable = true)\n",
            " |-- movie_facebook_likes: long (nullable = true)\n",
            " |-- plot_keywords: string (nullable = true)\n",
            " |-- genres: string (nullable = true)\n",
            " |-- language: string (nullable = true)\n",
            " |-- country: string (nullable = true)\n",
            " |-- content_rating: string (nullable = true)\n",
            " |-- imdb_score: double (nullable = true)\n",
            " |-- color: string (nullable = true)\n",
            " |-- profit: long (nullable = true)\n",
            "\n",
            "+--------+---------+---------+----------+\n",
            "|duration|    gross|   budget|title_year|\n",
            "+--------+---------+---------+----------+\n",
            "|     178|760505847|237000000|      2009|\n",
            "|     169|309404152|300000000|      2007|\n",
            "|     164|448130642|250000000|      2012|\n",
            "+--------+---------+---------+----------+\n",
            "\n"
          ]
        }
      ]
    },
    {
      "cell_type": "code",
      "source": [
        "# STEP 3.1: LINEAR REGRESSION\n",
        "# For Linear Regression Models StandardScaler seems to be the better choice:\n",
        "# it centers the data around zero and can handle varying scales more effectively.\n",
        "# MinMaxScaler may compress the majority of your data into a small range, which can negatively impact the performance of linear regression\n",
        "\n",
        "#Import dependencies\n",
        "from sklearn.preprocessing import StandardScaler, MinMaxScaler\n",
        "from sklearn.model_selection import train_test_split\n",
        "from sklearn.preprocessing import StandardScaler\n",
        "from sklearn.linear_model import LinearRegression\n",
        "from sklearn.metrics import mean_squared_error, r2_score\n"
      ],
      "metadata": {
        "id": "uXYXjYtH0iE-"
      },
      "execution_count": 115,
      "outputs": []
    },
    {
      "cell_type": "code",
      "source": [
        "# Create a copy of the data\n",
        "movies_us = movie_data.copy()\n",
        "# Drop 'profit' column as a highly correlated aggregation value\n",
        "movies_us = movies_us.drop(['profit'], axis=1)"
      ],
      "metadata": {
        "id": "pn9NLt9a0p5p"
      },
      "execution_count": 116,
      "outputs": []
    },
    {
      "cell_type": "code",
      "source": [
        "# List of numerical features to be scaled\n",
        "numerical_features = ['gross', 'budget', 'actor_1_facebook_likes', 'actor_2_facebook_likes',\n",
        "                      'actor_3_facebook_likes', 'director_facebook_likes', 'duration',\n",
        "                      'num_critic_for_reviews', 'num_user_for_reviews', 'num_voted_users',\n",
        "                      'cast_total_facebook_likes', 'movie_facebook_likes']\n",
        "# Set StandardScaler as the best scaler option for Linear regression model\n",
        "scaler = StandardScaler()\n",
        "# Scale only the numerical columns\n",
        "movies_us[numerical_features] = scaler.fit_transform(movies_us[numerical_features])"
      ],
      "metadata": {
        "id": "KTBxQs_s3vOB"
      },
      "execution_count": 125,
      "outputs": []
    },
    {
      "cell_type": "code",
      "source": [
        "# Set features for Multiple Linear Regression\n",
        "features = ['budget', 'duration', 'num_critic_for_reviews', 'num_user_for_reviews',\n",
        "            'actor_1_facebook_likes', 'actor_2_facebook_likes', 'actor_3_facebook_likes',\n",
        "            'director_facebook_likes', 'num_voted_users', 'cast_total_facebook_likes',\n",
        "            'movie_facebook_likes']\n",
        "X = movies_us[features]  # Independent variables\n",
        "y = movies_us['gross']   # Dependent variable"
      ],
      "metadata": {
        "id": "Qiq9CW2A3vR_"
      },
      "execution_count": 126,
      "outputs": []
    },
    {
      "cell_type": "code",
      "source": [
        "# Split Data into Training and Testing Sets\n",
        "X_train, X_test, y_train, y_test = train_test_split(X, y, test_size=0.2, random_state=42)\n",
        "# Thrain the Linear regression Model\n",
        "model = LinearRegression()\n",
        "model.fit(X_train, y_train)\n",
        "# Make Predictions\n",
        "y_pred = model.predict(X_test)\n",
        "\n"
      ],
      "metadata": {
        "id": "gXnUd_LTfB8x"
      },
      "execution_count": 127,
      "outputs": []
    },
    {
      "cell_type": "code",
      "source": [
        "# Assess Multiple Linear Regression Model Accuracy\n",
        "r2 = r2_score(y_test, y_pred)\n",
        "mse = mean_squared_error(y_test, y_pred)\n",
        "print(f'R-squared: {r2}')\n",
        "print(f'Mean Squared Error: {mse}')\n",
        "\n",
        "# Create a Plot Showing Actual vs Predicted Gross Revenue\n",
        "plt.figure(figsize=(10, 6))\n",
        "plt.scatter(y_test, y_pred, alpha=0.5)\n",
        "plt.plot([min(y_test), max(y_test)], [min(y_test), max(y_test)], color='red')  # Perfect fit line\n",
        "plt.title('Actual vs Predicted Gross Revenue, Multiple Linear Regression Model')\n",
        "plt.xlabel('Actual Gross')\n",
        "plt.ylabel('Predicted Gross')\n",
        "plt.show()"
      ],
      "metadata": {
        "id": "vo5fbD8b3vYG",
        "colab": {
          "base_uri": "https://localhost:8080/",
          "height": 601
        },
        "outputId": "789da1f0-54f6-4bf4-8cc3-e23e9eca86a1"
      },
      "execution_count": 130,
      "outputs": [
        {
          "output_type": "stream",
          "name": "stdout",
          "text": [
            "R-squared: 0.5706539556836715\n",
            "Mean Squared Error: 0.42357315432805226\n"
          ]
        },
        {
          "output_type": "display_data",
          "data": {
            "text/plain": [
              "<Figure size 1000x600 with 1 Axes>"
            ],
            "image/png": "[encoded data removed]"
          },
          "metadata": {}
        }
      ]
    },
    {
      "cell_type": "code",
      "source": [
        "# The model explains about 57% of the changes in movie revenue based on the factors included, showing it has a decent fit, but 43% remains unexplained, suggesting other influences.\n",
        "# The error rate (0.4236) shows how close the predictions are to actual values, but we need to compare it with other models to see how reliable it really is"
      ],
      "metadata": {
        "id": "i5GwrCDY3vbA"
      },
      "execution_count": 119,
      "outputs": []
    },
    {
      "cell_type": "code",
      "source": [
        "# The accuracy rate for Multi Linear Regression is not the best\n",
        "# This part of the code is aim to create Liner Regression model based on budget-gross correlation\n",
        "# To verify if that increases predioction accuracy\n",
        "movies_lin = movie_data.copy()"
      ],
      "metadata": {
        "id": "_zqwleZtr5-f"
      },
      "execution_count": 129,
      "outputs": []
    },
    {
      "cell_type": "code",
      "source": [
        "# List of numerical features to be scaled\n",
        "numerical_features = ['gross', 'budget']\n",
        "\n",
        "# Initialize the StandardScaler\n",
        "scaler = StandardScaler()\n",
        "\n",
        "# Scale only the numerical columns\n",
        "movies_lin[numerical_features] = scaler.fit_transform(movies_lin[numerical_features])\n",
        "\n",
        "# Set the feature for Simple Linear Regression (e.g., 'budget')\n",
        "X = movies_lin[['budget']]  # Independent variable\n",
        "\n",
        "# Dependent variable\n",
        "y = movies_lin['gross']\n",
        "\n",
        "# Split Data into Training and Testing Sets\n",
        "X_train, X_test, y_train, y_test = train_test_split(X, y, test_size=0.2, random_state=42)\n",
        "\n",
        "# Train the Linear Regression Model\n",
        "model = LinearRegression()\n",
        "model.fit(X_train, y_train)\n",
        "\n",
        "# Make Predictions\n",
        "y_pred = model.predict(X_test)\n",
        "\n",
        "# Assess Model Accuracy\n",
        "r2 = r2_score(y_test, y_pred)\n",
        "mse = mean_squared_error(y_test, y_pred)\n",
        "print(f'R-squared: {r2}')\n",
        "print(f'Mean Squared Error: {mse}')\n",
        "\n",
        "# Create a Plot Showing Actual vs Predicted Gross Revenue\n",
        "plt.figure(figsize=(10, 6))\n",
        "plt.scatter(y_test, y_pred, alpha=0.5)\n",
        "plt.plot([min(y_test), max(y_test)], [min(y_test), max(y_test)], color='red')  # Perfect fit line\n",
        "plt.title('Actual vs Predicted Gross Revenue, Linear Regression Model')\n",
        "plt.xlabel('Actual Gross')\n",
        "plt.ylabel('Predicted Gross')\n",
        "plt.show()"
      ],
      "metadata": {
        "colab": {
          "base_uri": "https://localhost:8080/",
          "height": 601
        },
        "id": "C1R5DCwRr6Bd",
        "outputId": "a7ad408c-fe62-447a-b59a-8b90ef28d736"
      },
      "execution_count": 131,
      "outputs": [
        {
          "output_type": "stream",
          "name": "stdout",
          "text": [
            "R-squared: 0.36543303277622263\n",
            "Mean Squared Error: 0.6260347230341049\n"
          ]
        },
        {
          "output_type": "display_data",
          "data": {
            "text/plain": [
              "<Figure size 1000x600 with 1 Axes>"
            ],
            "image/png": "[encoded data removed]"
          },
          "metadata": {}
        }
      ]
    },
    {
      "cell_type": "code",
      "source": [
        "# Summary of the linear regression models:\n",
        "# The multiple linear regression model is better because it has a higher R-squared value (explains more variance) and a lower MSE (higher accuracy).\n",
        "# This indicates that using multiple features improves the model's ability to predict gross compared to using a single feature (budget) alone."
      ],
      "metadata": {
        "id": "PuIPb1t2r6Ef"
      },
      "execution_count": null,
      "outputs": []
    },
    {
      "cell_type": "code",
      "source": [],
      "metadata": {
        "id": "zhVRDVv93veD"
      },
      "execution_count": 119,
      "outputs": []
    },
    {
      "cell_type": "markdown",
      "source": [],
      "metadata": {
        "id": "WVnTRoaHvHJ4"
      }
    },
    {
      "cell_type": "code",
      "source": [
        "## Consider creating beans for Deep learning (Linear regression works better with raw data)"
      ],
      "metadata": {
        "id": "_qVR1o5Z3vDv"
      },
      "execution_count": 120,
      "outputs": []
    },
    {
      "cell_type": "code",
      "source": [],
      "metadata": {
        "id": "m5r3RVqO3vg4"
      },
      "execution_count": 120,
      "outputs": []
    },
    {
      "cell_type": "code",
      "source": [],
      "metadata": {
        "id": "EirdKrst3v1m"
      },
      "execution_count": 120,
      "outputs": []
    },
    {
      "cell_type": "code",
      "source": [],
      "metadata": {
        "id": "KrSpoQyr3v4q"
      },
      "execution_count": 120,
      "outputs": []
    },
    {
      "cell_type": "code",
      "source": [],
      "metadata": {
        "id": "qyDivdnk3v71"
      },
      "execution_count": 120,
      "outputs": []
    },
    {
      "cell_type": "code",
      "source": [],
      "metadata": {
        "id": "vzT1zFQw3wE4"
      },
      "execution_count": 120,
      "outputs": []
    },
    {
      "cell_type": "code",
      "source": [],
      "metadata": {
        "id": "yIPSID8-3wH6"
      },
      "execution_count": 120,
      "outputs": []
    },
    {
      "cell_type": "code",
      "execution_count": 121,
      "metadata": {
        "id": "KAhk3ZD2tFy8",
        "colab": {
          "base_uri": "https://localhost:8080/"
        },
        "outputId": "a77082b3-8c93-48af-8268-de58e1fb0679"
      },
      "outputs": [
        {
          "output_type": "execute_result",
          "data": {
            "text/plain": [
              "DataFrame[]"
            ]
          },
          "metadata": {},
          "execution_count": 121
        }
      ],
      "source": [
        "# 7. Cache the the temporary table home_sales.\n",
        "spark.sql(\"cache table movies\")"
      ]
    },
    {
      "cell_type": "code",
      "execution_count": 122,
      "metadata": {
        "id": "4opVhbvxtL-i",
        "colab": {
          "base_uri": "https://localhost:8080/"
        },
        "outputId": "c9b4d311-6738-4cdd-d767-fcc89d9cc17d"
      },
      "outputs": [
        {
          "output_type": "execute_result",
          "data": {
            "text/plain": [
              "True"
            ]
          },
          "metadata": {},
          "execution_count": 122
        }
      ],
      "source": [
        "# 8. Check if the table is cached.\n",
        "spark.catalog.isCached('movies')"
      ]
    },
    {
      "cell_type": "code",
      "execution_count": 123,
      "metadata": {
        "id": "hjjYzQGjtbq8",
        "colab": {
          "base_uri": "https://localhost:8080/"
        },
        "outputId": "c1cba2ec-5579-4c03-b148-6b1c177b47fb"
      },
      "outputs": [
        {
          "output_type": "execute_result",
          "data": {
            "text/plain": [
              "DataFrame[]"
            ]
          },
          "metadata": {},
          "execution_count": 123
        }
      ],
      "source": [
        "# 14. Uncache the home_sales temporary table.\n",
        "spark.sql(\"uncache table movies\")"
      ]
    },
    {
      "cell_type": "code",
      "execution_count": 124,
      "metadata": {
        "id": "Sy9NBvO7tlmm",
        "colab": {
          "base_uri": "https://localhost:8080/"
        },
        "outputId": "28c27aef-c9b7-40a4-943c-6cc5e0bfaeba"
      },
      "outputs": [
        {
          "output_type": "execute_result",
          "data": {
            "text/plain": [
              "False"
            ]
          },
          "metadata": {},
          "execution_count": 124
        }
      ],
      "source": [
        "# 15. Check if the home_sales is no longer cached\n",
        "\n",
        "spark.catalog.isCached(\"movies\")"
      ]
    },
    {
      "cell_type": "code",
      "execution_count": 124,
      "metadata": {
        "id": "Si-BNruRUGK3"
      },
      "outputs": [],
      "source": []
    }
  ],
  "metadata": {
    "colab": {
      "provenance": []
    },
    "gpuClass": "standard",
    "kernelspec": {
      "display_name": "Python 3 (ipykernel)",
      "language": "python",
      "name": "python3"
    },
    "language_info": {
      "codemirror_mode": {
        "name": "ipython",
        "version": 3
      },
      "file_extension": ".py",
      "mimetype": "text/x-python",
      "name": "python",
      "nbconvert_exporter": "python",
      "pygments_lexer": "ipython3",
      "version": "3.10.4"
    },
    "nteract": {
      "version": "0.28.0"
    }
  },
  "nbformat": 4,
  "nbformat_minor": 0
}